{
 "cells": [
  {
   "cell_type": "code",
   "execution_count": 2,
   "id": "dfa06f66-c630-4d96-94fc-e6b10c89aaf8",
   "metadata": {},
   "outputs": [],
   "source": [
    "import pennylane as qml\n",
    "from pennylane import numpy as np\n",
    "import jax\n",
    "import optax"
   ]
  },
  {
   "cell_type": "markdown",
   "id": "573dc402-bfb4-46d3-8c53-41327894fc51",
   "metadata": {},
   "source": [
    "Calculate the difference of enerygy between reactants and product\n",
    "\n",
    "$$N_2 + 3H_2 \\leftrightharpoons 2NH_3$$"
   ]
  },
  {
   "cell_type": "code",
   "execution_count": 5,
   "id": "422d78bf-a2e4-49aa-a4aa-bee38abda1cf",
   "metadata": {},
   "outputs": [],
   "source": [
    "symbols = ['N', 'N', 'H', 'H', 'H', 'H', 'H', 'H']\n",
    "coordinate = np.random.rand(len(symbols)*3)\n",
    "\n",
    "active_electrons = 3 + 3 + 1 + 1 + 1 + 1 + 1 + 1\n",
    "\n",
    "H, q = qml.qchem.molecular_hamiltonian(symbols, coordinate, active_electrons=active_electrons)\n"
   ]
  },
  {
   "cell_type": "markdown",
   "id": "122c3f43-f610-4fb9-b9bc-bb2325f43952",
   "metadata": {},
   "source": [
    "Create energy of N2 and H2 individually and add them together instead of this?"
   ]
  },
  {
   "cell_type": "code",
   "execution_count": 6,
   "id": "a1b320aa-53fd-4ee0-abcd-da44e52b4372",
   "metadata": {},
   "outputs": [
    {
     "name": "stdout",
     "output_type": "stream",
     "text": [
      "<Hamiltonian: terms=29881, wires=[0, 1, 2, 3, 4, 5, 6, 7, 8, 9, 10, 11, 12, 13, 14, 15, 16, 17, 18, 19, 20, 21, 22, 23]>\n"
     ]
    }
   ],
   "source": [
    "H"
   ]
  },
  {
   "cell_type": "code",
   "execution_count": 9,
   "id": "6ae37654-c83e-4ee3-b3cb-eb3f0847529e",
   "metadata": {},
   "outputs": [],
   "source": [
    "nh3 = qml.data.load(\"qchem\", molname=\"NH3\", bondlength=0.5, basis=\"STO-3G\")"
   ]
  },
  {
   "cell_type": "code",
   "execution_count": 11,
   "id": "8f969148-4c6f-4c4d-a820-423691166bbb",
   "metadata": {},
   "outputs": [],
   "source": [
    "H_nh3, qubits = nh3[0].hamiltonian, len(nh3[0].hamiltonian.wires)"
   ]
  },
  {
   "cell_type": "code",
   "execution_count": 12,
   "id": "18b3ab0c-b94c-4fca-bbe8-2cc35ac3c519",
   "metadata": {},
   "outputs": [
    {
     "name": "stdout",
     "output_type": "stream",
     "text": [
      "<Hamiltonian: terms=2405, wires=[0, 1, 2, 3, 4, 5, 6, 7, 8, 9, 10, 11, 12, 13, 14, 15]>\n"
     ]
    }
   ],
   "source": [
    "H_nh3"
   ]
  },
  {
   "cell_type": "markdown",
   "id": "5acc290d-778b-484c-aa49-43160afcab2b",
   "metadata": {},
   "source": [
    "QPE:\n",
    "- 2 versions\n",
    "- 1 w. extra qubits to store the phase (log number extra qubits)\n",
    "- 1 w single\n",
    "\n",
    "\n",
    "VQE time is too big"
   ]
  },
  {
   "cell_type": "code",
   "execution_count": null,
   "id": "66f410cf-e1d7-4971-847c-a27be7964b74",
   "metadata": {},
   "outputs": [],
   "source": [
    "def optimize(theta, coordinate):\n",
    "    H, q = qml.qchem.molecular_hamiltonian(symbols, coordinate, active_electrons=active_electrons)\n",
    "    singles, doubles = qchem.excitations(active_electrons, n_qubits)\n",
    "    qml.AllSinglesDoubles(hf_state=hf_state, weights=theta, \n",
    "                         wires=wires,\n",
    "                         singles=singles,\n",
    "                         doubles=doubles)"
   ]
  }
 ],
 "metadata": {
  "kernelspec": {
   "display_name": "Python 3 (ipykernel)",
   "language": "python",
   "name": "python3"
  },
  "language_info": {
   "codemirror_mode": {
    "name": "ipython",
    "version": 3
   },
   "file_extension": ".py",
   "mimetype": "text/x-python",
   "name": "python",
   "nbconvert_exporter": "python",
   "pygments_lexer": "ipython3",
   "version": "3.10.11"
  }
 },
 "nbformat": 4,
 "nbformat_minor": 5
}
