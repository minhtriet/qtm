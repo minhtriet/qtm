{
 "cells": [
  {
   "cell_type": "markdown",
   "id": "ff155773-310c-4a36-a487-73bcae206df5",
   "metadata": {},
   "source": [
    "## Create trajectory"
   ]
  },
  {
   "cell_type": "code",
   "execution_count": 2,
   "id": "8f644351-8572-43b5-b74f-38dfcbc30200",
   "metadata": {},
   "outputs": [],
   "source": [
    "import json\n",
    "from ase import Atoms, io\n",
    "from ase.build import molecule\n",
    "import os\n",
    "import sys\n",
    "from tqdm.notebook import tqdm\n",
    "\n",
    "import matplotlib.pyplot as plt\n",
    "import matplotlib.animation as animation\n",
    "from ase.io import read, Trajectory, write\n",
    "from ase.visualize.plot import plot_atoms\n",
    "from ase.visualize import view\n",
    "\n",
    "from functools import reduce, partial\n",
    "import numpy as np\n",
    "# Use the notebook backend for interactive plots\n",
    "from qtm import chem_config"
   ]
  },
  {
   "cell_type": "code",
   "execution_count": 3,
   "id": "37ef285e-5712-43a2-9399-e36c1f73ee24",
   "metadata": {},
   "outputs": [],
   "source": [
    "# ⚠️⚠️ config cell ⚠️⚠️\n",
    "chem_conf_path = os.path.join(\"qtm\", \"chem_config.yaml\")\n",
    "ml_conf_path = os.path.join(\"qtm\", \"ml_config.yaml\")\n",
    "\n",
    "def _load_json(*dirs):\n",
    "    json_file = os.path.join(*dirs)\n",
    "    with open(json_file) as f:\n",
    "        js = json.load(f)\n",
    "    return js\n",
    "\n",
    "def _load_json_linewise(*dirs):\n",
    "    json_file = os.path.join(*dirs)\n",
    "    with open(json_file) as f:\n",
    "        js = [json.loads(line) for line in f]\n",
    "    return js\n",
    "\n",
    "try:\n",
    "    # for yaml based config \n",
    "    from omegaconf import OmegaConf\n",
    "    try:\n",
    "        OmegaConf.register_new_resolver(\"concat\", lambda x, y: x + y)\n",
    "        OmegaConf.register_new_resolver(\"divide\", lambda x, y: x / y)\n",
    "        OmegaConf.register_new_resolver(\"sum\", lambda *numbers: sum(numbers))\n",
    "        OmegaConf.register_new_resolver(\"load_json\", _load_json)\n",
    "        OmegaConf.register_new_resolver(\"last_element\", lambda x: x[-1])\n",
    "        chem_conf = OmegaConf.load(chem_conf_path)\n",
    "        chem_conf._set_flag(\"allow_objects\", True)\n",
    "        ml_conf = OmegaConf.load(ml_conf_path)\n",
    "        OmegaConf.resolve(chem_conf)\n",
    "        OmegaConf.resolve(ml_conf)\n",
    "    except ValueError:  # resolver registered\n",
    "        pass\n",
    "\n",
    "    step_config = chem_conf[\"steps\"][chem_conf.get(\"step_to_run\", None)]\n",
    "    \n",
    "    optimizable_molecules = step_config[\"react\"][\"symbols\"]\n",
    "    optimizable_coords = step_config[\"react\"][\"coords\"]\n",
    "    coordinate_file_name='coords_bo3.txt'\n",
    "    energies_file_name = 'energies_bo3.txt'\n",
    "except ImportError:\n",
    "    coordinate_file_name='coords.txt'\n",
    "    \n",
    "    # molecules = [chem_config.NH2, chem_config._N1_step1, chem_config._N2_step1, chem_config._N3_step1]\n",
    "    molecules = chem_config.step2\n",
    "\n",
    "\n",
    "# molecules = [chem_config.NH2, chem_config._N1_step1, chem_config._N2_step1, chem_config._N3_step1]\n",
    "molecules = chem_config.step2\n",
    "step = 'step2' # folder name, remember make sure it matches with the omegaconf\n",
    "traj_file_name=os.path.join(\"artifact\", step, coordinate_file_name.replace('.txt', '.traj'))\n"
   ]
  },
  {
   "cell_type": "code",
   "execution_count": 4,
   "id": "1e39bba6-4fe2-4fc9-9832-837766e707c9",
   "metadata": {},
   "outputs": [],
   "source": [
    "# to be optimized coordinates\n",
    "molecular_positions = []\n",
    "with open(os.path.join(\"artifact\", step, coordinate_file_name)) as f:\n",
    "    for l in f:\n",
    "        molecular_positions.append(json.loads(l.strip()))"
   ]
  },
  {
   "cell_type": "code",
   "execution_count": 5,
   "id": "7d120010-77e3-418c-8a08-b5f5853dfbfe",
   "metadata": {},
   "outputs": [],
   "source": [
    "# Filter trajectory (optional)\n",
    "idx_molecular_positions = [(idx, i) for idx, i in enumerate(molecular_positions) if (-0.15 < i[0] < 3) and (0.9 < i[1]< 4.57) \n",
    "                 and (-0.15 < i[3] < 3.15) and (0.9-0.15 < i[4] < 4.57+0.15)]\n"
   ]
  },
  {
   "cell_type": "code",
   "execution_count": 6,
   "id": "a51f73f7-0aff-4958-ad94-6c6466ac27b2",
   "metadata": {},
   "outputs": [],
   "source": [
    "idx = [_[0] for _ in idx_molecular_positions]\n",
    "molecular_positions = [_[1] for _ in idx_molecular_positions]"
   ]
  },
  {
   "cell_type": "code",
   "execution_count": 7,
   "id": "d4f75eea-bf98-42e9-bb4e-d17a22b8db0f",
   "metadata": {},
   "outputs": [
    {
     "data": {
      "text/plain": [
       "[3, 9, 12, 51]"
      ]
     },
     "execution_count": 7,
     "metadata": {},
     "output_type": "execute_result"
    }
   ],
   "source": [
    "idx"
   ]
  },
  {
   "cell_type": "code",
   "execution_count": 83,
   "id": "4011c464-ccec-44bf-9f07-11f25f84f91b",
   "metadata": {},
   "outputs": [
    {
     "data": {
      "text/plain": [
       "[[-0.12929729591679995,\n",
       "  3.0884120645008997,\n",
       "  2.5875072441995,\n",
       "  0.8999248454789999,\n",
       "  3.8737031192397,\n",
       "  2.0572795355693],\n",
       " [1.9468642455029002,\n",
       "  1.5738390999795997,\n",
       "  2.7617169022560004,\n",
       "  1.4572657535055,\n",
       "  3.1431269318132005,\n",
       "  2.5535552985966006],\n",
       " [0.02154712826759997,\n",
       "  2.5530692801787,\n",
       "  2.0896048964932996,\n",
       "  2.5671884889529,\n",
       "  4.2419244741081,\n",
       "  2.2054421175271],\n",
       " [1.3456069256891,\n",
       "  2.0209962914605,\n",
       "  2.5256638119784,\n",
       "  1.1415902450295998,\n",
       "  4.359460991862,\n",
       "  2.1558803483411]]"
      ]
     },
     "execution_count": 83,
     "metadata": {},
     "output_type": "execute_result"
    }
   ],
   "source": [
    "molecular_positions"
   ]
  },
  {
   "cell_type": "code",
   "execution_count": 84,
   "id": "a720139c-92ac-4e51-b0a8-a97d1bac952f",
   "metadata": {},
   "outputs": [],
   "source": [
    "molecular_positions[0], molecular_positions[-1] = molecular_positions[-1], molecular_positions[0]  "
   ]
  },
  {
   "cell_type": "code",
   "execution_count": 85,
   "id": "d415b521-96e0-42ef-b962-bbabc4a04e41",
   "metadata": {},
   "outputs": [
    {
     "data": {
      "text/plain": [
       "[[1.3456069256891,\n",
       "  2.0209962914605,\n",
       "  2.5256638119784,\n",
       "  1.1415902450295998,\n",
       "  4.359460991862,\n",
       "  2.1558803483411],\n",
       " [1.9468642455029002,\n",
       "  1.5738390999795997,\n",
       "  2.7617169022560004,\n",
       "  1.4572657535055,\n",
       "  3.1431269318132005,\n",
       "  2.5535552985966006],\n",
       " [0.02154712826759997,\n",
       "  2.5530692801787,\n",
       "  2.0896048964932996,\n",
       "  2.5671884889529,\n",
       "  4.2419244741081,\n",
       "  2.2054421175271],\n",
       " [-0.12929729591679995,\n",
       "  3.0884120645008997,\n",
       "  2.5875072441995,\n",
       "  0.8999248454789999,\n",
       "  3.8737031192397,\n",
       "  2.0572795355693]]"
      ]
     },
     "execution_count": 85,
     "metadata": {},
     "output_type": "execute_result"
    }
   ],
   "source": [
    "molecular_positions"
   ]
  },
  {
   "cell_type": "code",
   "execution_count": 86,
   "id": "865e55e2-4650-49a1-af2e-46286fb0b13a",
   "metadata": {},
   "outputs": [],
   "source": [
    "if \"omegaconf\" in sys.modules:\n",
    "    molecular_positions = [[*np.reshape(step_config[\"fixed\"][\"coords\"], (-1,3)),\n",
    "                        *np.reshape(molecular_position, (-1, 3))]\n",
    "                       for molecular_position in molecular_positions] \n",
    "    symbols = step_config[\"fixed\"][\"symbols\"] + step_config[\"react\"][\"symbols\"]\n",
    "\n",
    "else:\n",
    "    molecular_positions = [[*np.reshape(chem_config.Fe['coords'],(-1, 3)),\n",
    "                        *np.reshape(molecular_position, (-1, 3))]\n",
    "                       for molecular_position in molecular_positions] \n",
    "    symbols = chem_config.Fe['symbols'] +  reduce(lambda x, y: x+y, [x['symbols'] for x in molecules])\n"
   ]
  },
  {
   "cell_type": "markdown",
   "id": "12031468-98b5-4d5b-b986-d829777eafd3",
   "metadata": {},
   "source": [
    "Create traj file"
   ]
  },
  {
   "cell_type": "code",
   "execution_count": 87,
   "id": "787c0d70-22e9-4b68-88d0-22eedf5307a5",
   "metadata": {},
   "outputs": [],
   "source": [
    "# Example atomic symbols\n",
    "\n",
    "# Create a Trajectory object\n",
    "traj = Trajectory(traj_file_name, 'w')\n",
    "\n",
    "# Loop through each frame and create an Atoms object\n",
    "for frame in molecular_positions:    \n",
    "    atoms = Atoms(symbols=symbols, positions=frame)\n",
    "    traj.write(atoms, rotation=\"22z\")\n",
    "\n",
    "# Close the trajectory file\n",
    "traj.close()"
   ]
  },
  {
   "cell_type": "markdown",
   "id": "6f0d2616-e11e-430c-991b-b22b48fdd0dd",
   "metadata": {},
   "source": [
    "## Animate trajectory"
   ]
  },
  {
   "cell_type": "code",
   "execution_count": 91,
   "id": "0a5e0faf-0d55-4d72-ae7f-3b41ea20a3bc",
   "metadata": {},
   "outputs": [],
   "source": [
    "!ase gui {traj_file_name}"
   ]
  },
  {
   "cell_type": "markdown",
   "id": "10911d8e-9c13-425b-a071-dd0755318462",
   "metadata": {},
   "source": [
    "## Create GIF"
   ]
  },
  {
   "cell_type": "code",
   "execution_count": 89,
   "id": "45df804b-2ab8-4a5a-838d-1a501995c9b6",
   "metadata": {},
   "outputs": [],
   "source": [
    "traj = Trajectory(traj_file_name)"
   ]
  },
  {
   "cell_type": "code",
   "execution_count": 92,
   "id": "26273814-3519-486d-85c4-9186f73e5920",
   "metadata": {},
   "outputs": [
    {
     "data": {
      "image/png": "[encoded data removed]",
      "text/plain": [
       "<Figure size 640x480 with 1 Axes>"
      ]
     },
     "metadata": {},
     "output_type": "display_data"
    }
   ],
   "source": [
    "io.write(traj_file_name.replace(\".traj\", \".gif\"), traj, interval=1000, rotation=\"0x,0y,180z\")"
   ]
  },
  {
   "cell_type": "markdown",
   "id": "c7b22fc4-9dd7-445d-a662-51bd578e9c91",
   "metadata": {},
   "source": [
    "## Create Fe bulk"
   ]
  },
  {
   "cell_type": "code",
   "execution_count": 6,
   "id": "b10b15b6-3397-4a11-9dbd-e2c91c9dabd4",
   "metadata": {},
   "outputs": [
    {
     "data": {
      "application/vnd.jupyter.widget-view+json": {
       "model_id": "ce0615f4fde24bf5bf277903997a1e7e",
       "version_major": 2,
       "version_minor": 0
      },
      "text/plain": []
     },
     "metadata": {},
     "output_type": "display_data"
    },
    {
     "data": {
      "application/vnd.jupyter.widget-view+json": {
       "model_id": "de0b920339e5457ea013d6897b6776c5",
       "version_major": 2,
       "version_minor": 0
      },
      "text/plain": [
       "HBox(children=(NGLWidget(), VBox(children=(Dropdown(description='Show', options=('All', 'Fe'), value='All'), D…"
      ]
     },
     "execution_count": 6,
     "metadata": {},
     "output_type": "execute_result"
    }
   ],
   "source": [
    "from ase.build import bulk, surface\n",
    "from ase.visualize import view\n",
    "\n",
    "# Create bulk BCC iron\n",
    "bulk_fe = bulk('Fe', 'bcc', a=2.856)  # lattice constant for BCC iron\n",
    "\n",
    "# Create the (211) surface with 3 layers and 10 Å vacuum\n",
    "fe_211_surface = surface(bulk_fe, (2, 1, 1), layers=3, vacuum=10.0)\n",
    "\n",
    "# Center the surface slab in the cell\n",
    "fe_211_surface.center(axis=2)\n",
    "\n",
    "# View the structure\n",
    "view(fe_211_surface, viewer='ngl')"
   ]
  },
  {
   "cell_type": "code",
   "execution_count": 7,
   "id": "01f2d0b3-6847-462f-a045-c0d49617b3fc",
   "metadata": {},
   "outputs": [
    {
     "data": {
      "application/vnd.jupyter.widget-view+json": {
       "model_id": "68994fbe6b7a4845bf4e6e1d0fe875fc",
       "version_major": 2,
       "version_minor": 0
      },
      "text/plain": [
       "HBox(children=(NGLWidget(), VBox(children=(Dropdown(description='Show', options=('All', 'Fe'), value='All'), D…"
      ]
     },
     "execution_count": 7,
     "metadata": {},
     "output_type": "execute_result"
    }
   ],
   "source": [
    "#coords = [-4.3857516, 2.42202895, -4.41477892, -3.88343244,  2.62167029, -4.71856799, -4.65836314,  2.78615741, -3.9935248]\n",
    "\n",
    "fe_top = [1.0, 0.0, 0.50]\n",
    "fe_bottom = [0.69, 0.14, 0.36]\n",
    "fe_climbing = [0.63, 0.58, 0.44]\n",
    "fe_bridge = [0.7, 1.0, 0.44]\n",
    "fe_trough = [0.59, 0.5, 0.31]\n",
    "\n",
    "\n",
    "fe_lattice = Atoms(\n",
    " #   f\"FeFeFeFeFeNHH\",\n",
    "    f\"FeFeFeFeFeFeFeFe\",\n",
    "       [[ 2.98605559e+00,  9.14289068e-01,  1.05573008e+00],\n",
    "       [ 2.98605559e+00,  2.74286720e+00,  1.05573008e+00],\n",
    "       [ 2.98605559e+00,  4.57144534e+00,  1.05573008e+00],\n",
    "       #[ 1.49302780e+00, -1.43551837e-16,  5.27865040e-01],\n",
    "       [ 1.49302780e+00,  1.82857814e+00,  5.27865040e-01],\n",
    "       [ 1.49302780e+00,  3.65715627e+00,  5.27865040e-01],\n",
    "       [ 1.25981645e-16,  9.14289068e-01,  0.00000000e+00],\n",
    "       [ 1.25981645e-16,  2.74286720e+00,  0.00000000e+00],\n",
    "       [ 1.25981645e-16,  4.57144534e+00,  0.00000000e+00] ]\n",
    "    \n",
    ")\n",
    "\n",
    "view(fe_lattice, viewer='ngl')"
   ]
  },
  {
   "cell_type": "code",
   "execution_count": 8,
   "id": "45842bd9-a3fb-45a2-97b6-12de5d6774cb",
   "metadata": {},
   "outputs": [
    {
     "data": {
      "application/vnd.jupyter.widget-view+json": {
       "model_id": "2dbe88670ce44a3bb497b1934eb03023",
       "version_major": 2,
       "version_minor": 0
      },
      "text/plain": [
       "HBox(children=(NGLWidget(), VBox(children=(Dropdown(description='Show', options=('All', 'Fe'), value='All'), D…"
      ]
     },
     "execution_count": 8,
     "metadata": {},
     "output_type": "execute_result"
    }
   ],
   "source": [
    "from ase import Atoms\n",
    "from ase.build import fcc211, bulk\n",
    "from ase.io import read, write\n",
    "\n",
    "a = 2.586  # vertex constant\n",
    "\n",
    "slab = fcc211('Fe', (3, 3, 1), a=a)\n",
    "view(slab, viewer='ngl')"
   ]
  },
  {
   "cell_type": "code",
   "execution_count": 9,
   "id": "2efa814e-9d3a-4f73-b64c-75f0aba555e8",
   "metadata": {},
   "outputs": [
    {
     "data": {
      "text/plain": [
       "array([[ 2.98605559e+00,  9.14289068e-01,  1.05573008e+00],\n",
       "       [ 2.98605559e+00,  2.74286720e+00,  1.05573008e+00],\n",
       "       [ 2.98605559e+00,  4.57144534e+00,  1.05573008e+00],\n",
       "       [ 1.49302780e+00, -1.43551837e-16,  5.27865040e-01],\n",
       "       [ 1.49302780e+00,  1.82857814e+00,  5.27865040e-01],\n",
       "       [ 1.49302780e+00,  3.65715627e+00,  5.27865040e-01],\n",
       "       [ 1.25981645e-16,  9.14289068e-01,  0.00000000e+00],\n",
       "       [ 1.25981645e-16,  2.74286720e+00,  0.00000000e+00],\n",
       "       [ 1.25981645e-16,  4.57144534e+00,  0.00000000e+00]])"
      ]
     },
     "execution_count": 9,
     "metadata": {},
     "output_type": "execute_result"
    }
   ],
   "source": [
    "slab.get_positions()"
   ]
  },
  {
   "cell_type": "code",
   "execution_count": 2,
   "id": "0d9b3374-0ed8-4d2f-9c1c-7911753aa6ea",
   "metadata": {},
   "outputs": [],
   "source": [
    "temp_coords = \"0.3971556959170808, 2.5807740683066935, 1.59450983792887, 0.9067000404676966, 2.920382841733446, 1.6919749185888644, -0.16091996606189735, 2.850757130003617, 1.599233385693058, 1.8749878093307049, 0.6605548612821897, 2.2304022467832056, 1.9526558469941664, 1.9664420965973384, 2.3020270963182066, 1.96061627556519, 3.2873361443705207, 2.3298917415531757\"\n",
    "\n",
    "temp_coords = list(map(float, temp_coords[1:-1].split(',')))"
   ]
  },
  {
   "cell_type": "code",
   "execution_count": 3,
   "id": "a8479bb7-eed7-4f7e-8c5f-2a1c24506f10",
   "metadata": {},
   "outputs": [
    {
     "data": {
      "application/vnd.jupyter.widget-view+json": {
       "model_id": "e97bdf09c3d64794844ff042f47d9c26",
       "version_major": 2,
       "version_minor": 0
      },
      "text/plain": []
     },
     "metadata": {},
     "output_type": "display_data"
    },
    {
     "data": {
      "application/vnd.jupyter.widget-view+json": {
       "model_id": "117d1987ead7402c830eaf3e993c9439",
       "version_major": 2,
       "version_minor": 0
      },
      "text/plain": [
       "HBox(children=(NGLWidget(), VBox(children=(Dropdown(description='Show', options=('All', 'Fe', 'N', 'H'), value…"
      ]
     },
     "execution_count": 3,
     "metadata": {},
     "output_type": "execute_result"
    }
   ],
   "source": [
    "fe_lattice = Atoms(\n",
    "    \"\".join(chem_config.Fe['symbols']+chem_config.NH2['symbols']+['N','N','N']),\n",
    "    [*np.reshape(chem_config.Fe['coords'],(-1, 3)),\n",
    "     *np.reshape(temp_coords,(-1, 3)),   \n",
    "     #*np.reshape(chem_config.NH2['coords'], (-1, 3))\n",
    "    ]\n",
    ")\n",
    "\n",
    "view(fe_lattice, viewer='ngl')"
   ]
  },
  {
   "cell_type": "markdown",
   "id": "6158c788-286f-4251-85d4-63a8addf452a",
   "metadata": {},
   "source": [
    "### step 2"
   ]
  },
  {
   "cell_type": "code",
   "execution_count": 9,
   "id": "d55d4bc0-5de3-4fac-9243-9063a8e07680",
   "metadata": {},
   "outputs": [
    {
     "data": {
      "text/plain": [
       "array([[0.97361725, 0.99776673, 1.99935516],\n",
       "       [1.99054639, 4.03343409, 1.99108501]])"
      ]
     },
     "execution_count": 9,
     "metadata": {},
     "output_type": "execute_result"
    }
   ],
   "source": [
    "np.hstack([x['coords'] for x in chem_config.step2]).reshape(-1,3)"
   ]
  },
  {
   "cell_type": "code",
   "execution_count": null,
   "id": "4940ef24-b5e6-433a-aa71-494e778cbbba",
   "metadata": {},
   "outputs": [],
   "source": [
    "[-0.3, 0.99776673, 1.99935516],\n",
    "[2.99054639, 4.03343409, 1.99108501]"
   ]
  },
  {
   "cell_type": "code",
   "execution_count": 18,
   "id": "2f7f9a54-f8be-4257-a1b1-c013dd88d47b",
   "metadata": {},
   "outputs": [
    {
     "data": {
      "application/vnd.jupyter.widget-view+json": {
       "model_id": "4a8aa8aff4814935a871cc71e6fbb9c6",
       "version_major": 2,
       "version_minor": 0
      },
      "text/plain": [
       "HBox(children=(NGLWidget(), VBox(children=(Dropdown(description='Show', options=('All', 'N', 'Fe', 'H'), value…"
      ]
     },
     "execution_count": 18,
     "metadata": {},
     "output_type": "execute_result"
    }
   ],
   "source": [
    "fe_lattice = Atoms(\n",
    "    np.hstack(chem_config.Fe['symbols']+ [x['symbols'] for x in chem_config.step2_fix] +  [x['symbols'] for x in chem_config.step2]),\n",
    "    [*np.reshape(chem_config.Fe['coords'],(-1, 3)),\n",
    "     *np.hstack([x['coords'] for x in chem_config.step2_fix]).reshape(-1,3),\n",
    "     [-0.3, 0.99776673, 1.99935516],\n",
    "     [2.99054639, 4.03343409, 1.99108501]\n",
    "    ]\n",
    ")\n",
    "\n",
    "view(fe_lattice, viewer='ngl')"
   ]
  },
  {
   "cell_type": "markdown",
   "id": "01076917-3e11-44b0-835d-014718a3b487",
   "metadata": {},
   "source": [
    "# Energy chart"
   ]
  },
  {
   "cell_type": "code",
   "execution_count": 81,
   "id": "ca85ea05-f119-4605-876f-8851c3ffedcf",
   "metadata": {},
   "outputs": [],
   "source": [
    "energies = []\n",
    "\n",
    "with open(os.path.join(\"artifact\", \"step2\", energies_file_name)) as f:\n",
    "    try:\n",
    "        for line in f:\n",
    "            energies.append(float(line.strip()))\n",
    "    except ValueError:\n",
    "        f.seek(0)\n",
    "        energies = json.load(f)\n",
    "\n",
    "        \n",
    "energies = np.array(energies)"
   ]
  },
  {
   "cell_type": "code",
   "execution_count": 93,
   "id": "c892f6c1-8193-4918-9040-14d5a3a67753",
   "metadata": {},
   "outputs": [],
   "source": [
    "energies = energies[[51, 9, 12, 3]]"
   ]
  },
  {
   "cell_type": "code",
   "execution_count": 95,
   "id": "30f1e460-6691-4834-a0a7-dff019eb94e1",
   "metadata": {},
   "outputs": [
    {
     "data": {
      "text/plain": [
       "array([-10130.91527795, -10122.82763321, -10118.43348834, -10131.98372252])"
      ]
     },
     "execution_count": 95,
     "metadata": {},
     "output_type": "execute_result"
    }
   ],
   "source": [
    "energies"
   ]
  },
  {
   "cell_type": "code",
   "execution_count": 103,
   "id": "55e078b0-8a86-47db-a2fa-7db539b8a293",
   "metadata": {},
   "outputs": [
    {
     "data": {
      "application/vnd.jupyter.widget-view+json": {
       "model_id": "4a84d532ab51412e992664fe833fc1f8",
       "version_major": 2,
       "version_minor": 0
      },
      "text/plain": [
       "  0%|          | 0/4 [00:00<?, ?it/s]"
      ]
     },
     "metadata": {},
     "output_type": "display_data"
    },
    {
     "name": "stdout",
     "output_type": "stream",
     "text": [
      "[-10130.91527795]\n",
      "[-10130.91527795 -10122.82763321]\n",
      "[-10130.91527795 -10122.82763321 -10118.43348834]\n",
      "[-10130.91527795 -10122.82763321 -10118.43348834 -10131.98372252]\n"
     ]
    }
   ],
   "source": [
    "plt.rcParams[\"animation.html\"] = \"jshtml\"\n",
    "plt.rcParams['figure.dpi'] = 320  \n",
    "plt.ioff()\n",
    "fig, ax = plt.subplots()\n",
    "\n",
    "artists = []\n",
    "for i in tqdm(range(len(energies))):\n",
    "    print(energies[:i+1])\n",
    "    container = ax.plot(range(i+1), energies[:i+1])\n",
    "    artists.append(container)\n",
    "\n",
    "ani = animation.ArtistAnimation(fig=fig, artists=artists, interval=1000)\n",
    "ani.save(\"god.gif\",  writer=\"pillow\")"
   ]
  },
  {
   "cell_type": "code",
   "execution_count": 25,
   "id": "3dd8d2c2-4865-4349-bf13-b9d04d3fd228",
   "metadata": {},
   "outputs": [
    {
     "data": {
      "application/vnd.jupyter.widget-view+json": {
       "model_id": "c3ee8d78d89a4f8aa425344c81519f34",
       "version_major": 2,
       "version_minor": 0
      },
      "text/plain": [
       "HBox(children=(NGLWidget(), VBox(children=(Dropdown(description='Show', options=('All', 'N', 'Fe', 'H'), value…"
      ]
     },
     "execution_count": 25,
     "metadata": {},
     "output_type": "execute_result"
    }
   ],
   "source": [
    "fe_lattice = Atoms(\n",
    "    np.hstack(chem_config.Fe['symbols']+ [x['symbols'] for x in chem_config.step2_fix] +  [x['symbols'] for x in chem_config.step2]),\n",
    "    [*np.reshape(chem_config.Fe['coords'],(-1, 3)),\n",
    "     *np.hstack([x['coords'] for x in chem_config.step2_fix]).reshape(-1,3),\n",
    "    [-0.8631129368032,\n",
    " 4.1860349535627,\n",
    " 2.6888624522835],\n",
    " [3.0991096767490003,\n",
    " 2.8267188370752,\n",
    " 2.3468265365809002] \n",
    "    ]\n",
    ")\n",
    "\n",
    "view(fe_lattice, viewer='ngl')"
   ]
  }
 ],
 "metadata": {
  "kernelspec": {
   "display_name": "Python 3 (ipykernel)",
   "language": "python",
   "name": "python3"
  },
  "language_info": {
   "codemirror_mode": {
    "name": "ipython",
    "version": 3
   },
   "file_extension": ".py",
   "mimetype": "text/x-python",
   "name": "python",
   "nbconvert_exporter": "python",
   "pygments_lexer": "ipython3",
   "version": "3.9.12"
  }
 },
 "nbformat": 4,
 "nbformat_minor": 5
}
