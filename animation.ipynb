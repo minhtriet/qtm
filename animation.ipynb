{
 "cells": [
  {
   "cell_type": "markdown",
   "id": "ff155773-310c-4a36-a487-73bcae206df5",
   "metadata": {},
   "source": [
    "## Create trajectory"
   ]
  },
  {
   "cell_type": "code",
   "execution_count": 1,
   "id": "8f644351-8572-43b5-b74f-38dfcbc30200",
   "metadata": {},
   "outputs": [],
   "source": [
    "import matplotlib.pyplot as plt\n",
    "import matplotlib.animation as animation\n",
    "from ase.io import read\n",
    "from ase.visualize.plot import plot_atoms\n",
    "\n",
    "from ase.visualize import view\n",
    "\n",
    "# Use the notebook backend for interactive plots\n",
    "%matplotlib widget"
   ]
  },
  {
   "cell_type": "code",
   "execution_count": 2,
   "id": "58a5b209-79a5-48fa-a30f-83ca09b59cc0",
   "metadata": {},
   "outputs": [],
   "source": [
    "import json\n",
    "from ase import Atoms\n",
    "from ase.build import molecule\n",
    "from ase.io import Trajectory, write"
   ]
  },
  {
   "cell_type": "code",
   "execution_count": 3,
   "id": "70632b41-b760-4643-a447-df8584f36f9a",
   "metadata": {},
   "outputs": [],
   "source": [
    "fe_top = [1.0, 0.0, 0.50]\n",
    "fe_bottom = [0.69, 0.14, 0.36]\n",
    "fe_climbing = [0.63, 0.58, 0.44]\n",
    "fe_bridge = [0.7, 1.0, 0.44]\n",
    "fe_trough = [0.59, 0.5, 0.31]"
   ]
  },
  {
   "cell_type": "code",
   "execution_count": 9,
   "id": "865e55e2-4650-49a1-af2e-46286fb0b13a",
   "metadata": {},
   "outputs": [],
   "source": [
    "with open('coords 1e-3.txt') as f:\n",
    "    molecular_positions = json.load(f)\n",
    "\n",
    "molecular_positions = [[(molecular_position[0], molecular_position[1], molecular_position[2]),\n",
    "                        (molecular_position[3], molecular_position[4], molecular_position[5]),\n",
    "                        (molecular_position[6], molecular_position[7], molecular_position[8]),\n",
    "                        fe_top, fe_bottom, fe_climbing, fe_bridge, fe_trough]\n",
    "                       for molecular_position in molecular_positions]"
   ]
  },
  {
   "cell_type": "markdown",
   "id": "12031468-98b5-4d5b-b986-d829777eafd3",
   "metadata": {},
   "source": [
    "Create traj file"
   ]
  },
  {
   "cell_type": "code",
   "execution_count": 10,
   "id": "787c0d70-22e9-4b68-88d0-22eedf5307a5",
   "metadata": {},
   "outputs": [],
   "source": [
    "# Example atomic symbols\n",
    "symbols = ['N', 'H', 'H', 'Fe', 'Fe', 'Fe', 'Fe', 'Fe']\n",
    "\n",
    "# Create a Trajectory object\n",
    "traj = Trajectory('molecule 1e-3.traj', 'w')\n",
    "\n",
    "# Loop through each frame and create an Atoms object\n",
    "for frame in molecular_positions:\n",
    "    atoms = Atoms(symbols=symbols, positions=frame)\n",
    "    traj.write(atoms, rotation=\"22z\")\n",
    "\n",
    "# Close the trajectory file\n",
    "traj.close()"
   ]
  },
  {
   "cell_type": "markdown",
   "id": "6f0d2616-e11e-430c-991b-b22b48fdd0dd",
   "metadata": {},
   "source": [
    "## Animate trajectory"
   ]
  },
  {
   "cell_type": "markdown",
   "id": "55742ab2-984e-4056-b9e4-f1553c4cf15f",
   "metadata": {},
   "source": [
    "`ase gui molecule.traj`"
   ]
  },
  {
   "cell_type": "code",
   "execution_count": 7,
   "id": "62b4cdaf-636c-4c64-86e9-944d3dd82f89",
   "metadata": {},
   "outputs": [
    {
     "data": {
      "application/vnd.jupyter.widget-view+json": {
       "model_id": "96b7749afefd47ffa156326774715ee1",
       "version_major": 2,
       "version_minor": 0
      },
      "text/plain": []
     },
     "metadata": {},
     "output_type": "display_data"
    },
    {
     "data": {
      "application/vnd.jupyter.widget-view+json": {
       "model_id": "365837e553d742aabe5697d983483e31",
       "version_major": 2,
       "version_minor": 0
      },
      "text/plain": [
       "HBox(children=(NGLWidget(), VBox(children=(Dropdown(description='Show', options=('All', 'N', 'H', 'Fe'), value…"
      ]
     },
     "execution_count": 7,
     "metadata": {},
     "output_type": "execute_result"
    }
   ],
   "source": [
    "fe_lattice = Atoms(\n",
    "    f\"NHHFeFeFeFeFe\",\n",
    "    molecular_positions[0]\n",
    ")\n",
    "\n",
    "view(fe_lattice, viewer='ngl')"
   ]
  },
  {
   "cell_type": "code",
   "execution_count": 8,
   "id": "4dcdd9f9-539b-4225-962e-b77a843f5f6f",
   "metadata": {},
   "outputs": [
    {
     "data": {
      "application/vnd.jupyter.widget-view+json": {
       "model_id": "42887a0462c54382a9d01580b30fb88a",
       "version_major": 2,
       "version_minor": 0
      },
      "text/plain": [
       "HBox(children=(NGLWidget(), VBox(children=(Dropdown(description='Show', options=('All', 'N', 'H', 'Fe'), value…"
      ]
     },
     "execution_count": 8,
     "metadata": {},
     "output_type": "execute_result"
    }
   ],
   "source": [
    "fe_lattice = Atoms(\n",
    "    f\"NHHFeFeFeFeFe\",\n",
    "    molecular_positions[-1]\n",
    ")\n",
    "\n",
    "view(fe_lattice, viewer='ngl')"
   ]
  }
 ],
 "metadata": {
  "kernelspec": {
   "display_name": "Python 3 (ipykernel)",
   "language": "python",
   "name": "python3"
  },
  "language_info": {
   "codemirror_mode": {
    "name": "ipython",
    "version": 3
   },
   "file_extension": ".py",
   "mimetype": "text/x-python",
   "name": "python",
   "nbconvert_exporter": "python",
   "pygments_lexer": "ipython3",
   "version": "3.10.4"
  }
 },
 "nbformat": 4,
 "nbformat_minor": 5
}
