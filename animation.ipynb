{
 "cells": [
  {
   "cell_type": "markdown",
   "id": "ff155773-310c-4a36-a487-73bcae206df5",
   "metadata": {},
   "source": [
    "## Create trajectory"
   ]
  },
  {
   "cell_type": "code",
   "execution_count": 2,
   "id": "8f644351-8572-43b5-b74f-38dfcbc30200",
   "metadata": {},
   "outputs": [],
   "source": [
    "import json\n",
    "from ase import Atoms, io\n",
    "from ase.build import molecule\n",
    "import os\n",
    "\n",
    "import matplotlib.pyplot as plt\n",
    "import matplotlib.animation as animation\n",
    "from ase.io import read, Trajectory, write\n",
    "from ase.visualize.plot import plot_atoms\n",
    "from ase.visualize import view\n",
    "\n",
    "from functools import reduce\n",
    "import numpy as np\n",
    "# Use the notebook backend for interactive plots\n",
    "%matplotlib widget\n",
    "from qtm import chem_config"
   ]
  },
  {
   "cell_type": "code",
   "execution_count": 3,
   "id": "70632b41-b760-4643-a447-df8584f36f9a",
   "metadata": {},
   "outputs": [],
   "source": [
    "# ⚠️⚠️ config cell ⚠️⚠️\n",
    "step = 'step2' # folder name\n",
    "coordinate_file_name='coords.txt'\n",
    "traj_file_name=os.path.join(\"artifact\", step, coordinate_file_name.replace('.txt', '.traj'))\n",
    "\n",
    "# molecules = [chem_config.NH2, chem_config._N1_step1, chem_config._N2_step1, chem_config._N3_step1]\n",
    "molecules = chem_config.step2"
   ]
  },
  {
   "cell_type": "code",
   "execution_count": 4,
   "id": "1e39bba6-4fe2-4fc9-9832-837766e707c9",
   "metadata": {},
   "outputs": [],
   "source": [
    "with open(os.path.join(\"artifact\", step, coordinate_file_name)) as f:\n",
    "    molecular_positions = json.load(f)"
   ]
  },
  {
   "cell_type": "code",
   "execution_count": 5,
   "id": "865e55e2-4650-49a1-af2e-46286fb0b13a",
   "metadata": {},
   "outputs": [],
   "source": [
    "molecular_positions = [[*np.reshape(chem_config.Fe['coords'],(-1, 3)),\n",
    "                        *np.reshape(molecular_position, (-1, 3))]\n",
    "                       for molecular_position in molecular_positions] "
   ]
  },
  {
   "cell_type": "markdown",
   "id": "12031468-98b5-4d5b-b986-d829777eafd3",
   "metadata": {},
   "source": [
    "Create traj file"
   ]
  },
  {
   "cell_type": "code",
   "execution_count": 6,
   "id": "787c0d70-22e9-4b68-88d0-22eedf5307a5",
   "metadata": {},
   "outputs": [],
   "source": [
    "# Example atomic symbols\n",
    "symbols = chem_config.Fe['symbols'] +  reduce(lambda x, y: x+y, [x['symbols'] for x in molecules])\n",
    "\n",
    "# Create a Trajectory object\n",
    "traj = Trajectory(traj_file_name, 'w')\n",
    "\n",
    "# Loop through each frame and create an Atoms object\n",
    "for frame in molecular_positions:    \n",
    "    atoms = Atoms(symbols=symbols, positions=frame)\n",
    "    traj.write(atoms, rotation=\"22z\")\n",
    "\n",
    "# Close the trajectory file\n",
    "traj.close()"
   ]
  },
  {
   "cell_type": "markdown",
   "id": "6f0d2616-e11e-430c-991b-b22b48fdd0dd",
   "metadata": {},
   "source": [
    "## Animate trajectory"
   ]
  },
  {
   "cell_type": "code",
   "execution_count": 7,
   "id": "0a5e0faf-0d55-4d72-ae7f-3b41ea20a3bc",
   "metadata": {},
   "outputs": [],
   "source": [
    "!ase gui {traj_file_name}"
   ]
  },
  {
   "cell_type": "markdown",
   "id": "10911d8e-9c13-425b-a071-dd0755318462",
   "metadata": {},
   "source": [
    "## Create GIF"
   ]
  },
  {
   "cell_type": "code",
   "execution_count": 17,
   "id": "45df804b-2ab8-4a5a-838d-1a501995c9b6",
   "metadata": {},
   "outputs": [],
   "source": [
    "traj = Trajectory(traj_file_name)"
   ]
  },
  {
   "cell_type": "code",
   "execution_count": 24,
   "id": "26273814-3519-486d-85c4-9186f73e5920",
   "metadata": {},
   "outputs": [
    {
     "name": "stderr",
     "output_type": "stream",
     "text": [
      "MovieWriter ffmpeg unavailable; using Pillow instead.\n"
     ]
    }
   ],
   "source": [
    "io.write(traj_file_name.replace(\".traj\", \".gif\"), traj, rotation=\"0x,0y,180z\")"
   ]
  },
  {
   "cell_type": "markdown",
   "id": "c7b22fc4-9dd7-445d-a662-51bd578e9c91",
   "metadata": {},
   "source": [
    "## Create Fe bulk"
   ]
  },
  {
   "cell_type": "code",
   "execution_count": 6,
   "id": "b10b15b6-3397-4a11-9dbd-e2c91c9dabd4",
   "metadata": {},
   "outputs": [
    {
     "data": {
      "application/vnd.jupyter.widget-view+json": {
       "model_id": "ce0615f4fde24bf5bf277903997a1e7e",
       "version_major": 2,
       "version_minor": 0
      },
      "text/plain": []
     },
     "metadata": {},
     "output_type": "display_data"
    },
    {
     "data": {
      "application/vnd.jupyter.widget-view+json": {
       "model_id": "de0b920339e5457ea013d6897b6776c5",
       "version_major": 2,
       "version_minor": 0
      },
      "text/plain": [
       "HBox(children=(NGLWidget(), VBox(children=(Dropdown(description='Show', options=('All', 'Fe'), value='All'), D…"
      ]
     },
     "execution_count": 6,
     "metadata": {},
     "output_type": "execute_result"
    }
   ],
   "source": [
    "from ase.build import bulk, surface\n",
    "from ase.visualize import view\n",
    "\n",
    "# Create bulk BCC iron\n",
    "bulk_fe = bulk('Fe', 'bcc', a=2.856)  # lattice constant for BCC iron\n",
    "\n",
    "# Create the (211) surface with 3 layers and 10 Å vacuum\n",
    "fe_211_surface = surface(bulk_fe, (2, 1, 1), layers=3, vacuum=10.0)\n",
    "\n",
    "# Center the surface slab in the cell\n",
    "fe_211_surface.center(axis=2)\n",
    "\n",
    "# View the structure\n",
    "view(fe_211_surface, viewer='ngl')"
   ]
  },
  {
   "cell_type": "code",
   "execution_count": 7,
   "id": "01f2d0b3-6847-462f-a045-c0d49617b3fc",
   "metadata": {},
   "outputs": [
    {
     "data": {
      "application/vnd.jupyter.widget-view+json": {
       "model_id": "68994fbe6b7a4845bf4e6e1d0fe875fc",
       "version_major": 2,
       "version_minor": 0
      },
      "text/plain": [
       "HBox(children=(NGLWidget(), VBox(children=(Dropdown(description='Show', options=('All', 'Fe'), value='All'), D…"
      ]
     },
     "execution_count": 7,
     "metadata": {},
     "output_type": "execute_result"
    }
   ],
   "source": [
    "#coords = [-4.3857516, 2.42202895, -4.41477892, -3.88343244,  2.62167029, -4.71856799, -4.65836314,  2.78615741, -3.9935248]\n",
    "\n",
    "fe_top = [1.0, 0.0, 0.50]\n",
    "fe_bottom = [0.69, 0.14, 0.36]\n",
    "fe_climbing = [0.63, 0.58, 0.44]\n",
    "fe_bridge = [0.7, 1.0, 0.44]\n",
    "fe_trough = [0.59, 0.5, 0.31]\n",
    "\n",
    "\n",
    "fe_lattice = Atoms(\n",
    " #   f\"FeFeFeFeFeNHH\",\n",
    "    f\"FeFeFeFeFeFeFeFe\",\n",
    "       [[ 2.98605559e+00,  9.14289068e-01,  1.05573008e+00],\n",
    "       [ 2.98605559e+00,  2.74286720e+00,  1.05573008e+00],\n",
    "       [ 2.98605559e+00,  4.57144534e+00,  1.05573008e+00],\n",
    "       #[ 1.49302780e+00, -1.43551837e-16,  5.27865040e-01],\n",
    "       [ 1.49302780e+00,  1.82857814e+00,  5.27865040e-01],\n",
    "       [ 1.49302780e+00,  3.65715627e+00,  5.27865040e-01],\n",
    "       [ 1.25981645e-16,  9.14289068e-01,  0.00000000e+00],\n",
    "       [ 1.25981645e-16,  2.74286720e+00,  0.00000000e+00],\n",
    "       [ 1.25981645e-16,  4.57144534e+00,  0.00000000e+00] ]\n",
    "    \n",
    ")\n",
    "\n",
    "view(fe_lattice, viewer='ngl')"
   ]
  },
  {
   "cell_type": "code",
   "execution_count": 8,
   "id": "45842bd9-a3fb-45a2-97b6-12de5d6774cb",
   "metadata": {},
   "outputs": [
    {
     "data": {
      "application/vnd.jupyter.widget-view+json": {
       "model_id": "2dbe88670ce44a3bb497b1934eb03023",
       "version_major": 2,
       "version_minor": 0
      },
      "text/plain": [
       "HBox(children=(NGLWidget(), VBox(children=(Dropdown(description='Show', options=('All', 'Fe'), value='All'), D…"
      ]
     },
     "execution_count": 8,
     "metadata": {},
     "output_type": "execute_result"
    }
   ],
   "source": [
    "from ase import Atoms\n",
    "from ase.build import fcc211, bulk\n",
    "from ase.io import read, write\n",
    "\n",
    "a = 2.586  # vertex constant\n",
    "\n",
    "slab = fcc211('Fe', (3, 3, 1), a=a)\n",
    "view(slab, viewer='ngl')"
   ]
  },
  {
   "cell_type": "code",
   "execution_count": 9,
   "id": "2efa814e-9d3a-4f73-b64c-75f0aba555e8",
   "metadata": {},
   "outputs": [
    {
     "data": {
      "text/plain": [
       "array([[ 2.98605559e+00,  9.14289068e-01,  1.05573008e+00],\n",
       "       [ 2.98605559e+00,  2.74286720e+00,  1.05573008e+00],\n",
       "       [ 2.98605559e+00,  4.57144534e+00,  1.05573008e+00],\n",
       "       [ 1.49302780e+00, -1.43551837e-16,  5.27865040e-01],\n",
       "       [ 1.49302780e+00,  1.82857814e+00,  5.27865040e-01],\n",
       "       [ 1.49302780e+00,  3.65715627e+00,  5.27865040e-01],\n",
       "       [ 1.25981645e-16,  9.14289068e-01,  0.00000000e+00],\n",
       "       [ 1.25981645e-16,  2.74286720e+00,  0.00000000e+00],\n",
       "       [ 1.25981645e-16,  4.57144534e+00,  0.00000000e+00]])"
      ]
     },
     "execution_count": 9,
     "metadata": {},
     "output_type": "execute_result"
    }
   ],
   "source": [
    "slab.get_positions()"
   ]
  },
  {
   "cell_type": "code",
   "execution_count": 2,
   "id": "0d9b3374-0ed8-4d2f-9c1c-7911753aa6ea",
   "metadata": {},
   "outputs": [],
   "source": [
    "temp_coords = \"0.3971556959170808, 2.5807740683066935, 1.59450983792887, 0.9067000404676966, 2.920382841733446, 1.6919749185888644, -0.16091996606189735, 2.850757130003617, 1.599233385693058, 1.8749878093307049, 0.6605548612821897, 2.2304022467832056, 1.9526558469941664, 1.9664420965973384, 2.3020270963182066, 1.96061627556519, 3.2873361443705207, 2.3298917415531757\"\n",
    "\n",
    "temp_coords = list(map(float, temp_coords[1:-1].split(',')))"
   ]
  },
  {
   "cell_type": "code",
   "execution_count": 3,
   "id": "a8479bb7-eed7-4f7e-8c5f-2a1c24506f10",
   "metadata": {},
   "outputs": [
    {
     "data": {
      "application/vnd.jupyter.widget-view+json": {
       "model_id": "e97bdf09c3d64794844ff042f47d9c26",
       "version_major": 2,
       "version_minor": 0
      },
      "text/plain": []
     },
     "metadata": {},
     "output_type": "display_data"
    },
    {
     "data": {
      "application/vnd.jupyter.widget-view+json": {
       "model_id": "117d1987ead7402c830eaf3e993c9439",
       "version_major": 2,
       "version_minor": 0
      },
      "text/plain": [
       "HBox(children=(NGLWidget(), VBox(children=(Dropdown(description='Show', options=('All', 'Fe', 'N', 'H'), value…"
      ]
     },
     "execution_count": 3,
     "metadata": {},
     "output_type": "execute_result"
    }
   ],
   "source": [
    "fe_lattice = Atoms(\n",
    "    \"\".join(chem_config.Fe['symbols']+chem_config.NH2['symbols']+['N','N','N']),\n",
    "    [*np.reshape(chem_config.Fe['coords'],(-1, 3)),\n",
    "     *np.reshape(temp_coords,(-1, 3)),   \n",
    "     #*np.reshape(chem_config.NH2['coords'], (-1, 3))\n",
    "    ]\n",
    ")\n",
    "\n",
    "view(fe_lattice, viewer='ngl')"
   ]
  },
  {
   "cell_type": "markdown",
   "id": "6158c788-286f-4251-85d4-63a8addf452a",
   "metadata": {},
   "source": [
    "### step 2"
   ]
  },
  {
   "cell_type": "code",
   "execution_count": 8,
   "id": "2f7f9a54-f8be-4257-a1b1-c013dd88d47b",
   "metadata": {},
   "outputs": [
    {
     "data": {
      "application/vnd.jupyter.widget-view+json": {
       "model_id": "d8e3a6f7a6b14f798b58e92f2a4726f0",
       "version_major": 2,
       "version_minor": 0
      },
      "text/plain": []
     },
     "metadata": {},
     "output_type": "display_data"
    },
    {
     "data": {
      "application/vnd.jupyter.widget-view+json": {
       "model_id": "96d6b54fe8a446f49078a2f735e2254c",
       "version_major": 2,
       "version_minor": 0
      },
      "text/plain": [
       "HBox(children=(NGLWidget(), VBox(children=(Dropdown(description='Show', options=('All', 'Fe', 'H', 'N'), value…"
      ]
     },
     "execution_count": 8,
     "metadata": {},
     "output_type": "execute_result"
    }
   ],
   "source": [
    "fe_lattice = Atoms(\n",
    "    np.hstack(chem_config.Fe['symbols']+[x['symbols'] for x in chem_config.step2]),\n",
    "    [*np.reshape(chem_config.Fe['coords'],(-1, 3)),\n",
    "     *np.hstack([x['coords'] for x in chem_config.step2]).reshape(-1,3)     \n",
    "    ]\n",
    ")\n",
    "\n",
    "view(fe_lattice, viewer='ngl')"
   ]
  }
 ],
 "metadata": {
  "kernelspec": {
   "display_name": "Python 3 (ipykernel)",
   "language": "python",
   "name": "python3"
  },
  "language_info": {
   "codemirror_mode": {
    "name": "ipython",
    "version": 3
   },
   "file_extension": ".py",
   "mimetype": "text/x-python",
   "name": "python",
   "nbconvert_exporter": "python",
   "pygments_lexer": "ipython3",
   "version": "3.10.4"
  }
 },
 "nbformat": 4,
 "nbformat_minor": 5
}
