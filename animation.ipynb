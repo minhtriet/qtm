{
 "cells": [
  {
   "cell_type": "markdown",
   "id": "ff155773-310c-4a36-a487-73bcae206df5",
   "metadata": {},
   "source": [
    "## Create trajectory"
   ]
  },
  {
   "cell_type": "code",
   "execution_count": 1,
   "id": "8f644351-8572-43b5-b74f-38dfcbc30200",
   "metadata": {},
   "outputs": [],
   "source": [
    "import matplotlib.pyplot as plt\n",
    "import matplotlib.animation as animation\n",
    "from ase.io import read\n",
    "from ase.visualize.plot import plot_atoms\n",
    "\n",
    "from ase.visualize import view\n",
    "\n",
    "# Use the notebook backend for interactive plots\n",
    "%matplotlib widget"
   ]
  },
  {
   "cell_type": "code",
   "execution_count": 2,
   "id": "8c0f7ef2-7707-421d-b985-551402bee143",
   "metadata": {},
   "outputs": [],
   "source": [
    "import numpy as np"
   ]
  },
  {
   "cell_type": "code",
   "execution_count": 3,
   "id": "58a5b209-79a5-48fa-a30f-83ca09b59cc0",
   "metadata": {},
   "outputs": [],
   "source": [
    "import json\n",
    "from ase import Atoms\n",
    "from ase.build import molecule\n",
    "from ase.io import Trajectory, write"
   ]
  },
  {
   "cell_type": "code",
   "execution_count": 4,
   "id": "70632b41-b760-4643-a447-df8584f36f9a",
   "metadata": {},
   "outputs": [],
   "source": [
    "fe_top = [1.0, 0.0, 0.50]\n",
    "fe_bottom = [0.69, 0.14, 0.36]\n",
    "fe_climbing = [0.63, 0.58, 0.44]\n",
    "fe_bridge = [0.7, 1.0, 0.44]\n",
    "fe_trough = [0.59, 0.5, 0.31]"
   ]
  },
  {
   "cell_type": "code",
   "execution_count": 8,
   "id": "865e55e2-4650-49a1-af2e-46286fb0b13a",
   "metadata": {},
   "outputs": [],
   "source": [
    "with open('coords 1e-3.txt') as f:\n",
    "    molecular_positions = json.load(f)\n",
    "\n",
    "molecular_positions = [[(molecular_position[0], molecular_position[1], molecular_position[2]),\n",
    "                        (molecular_position[3], molecular_position[4], molecular_position[5]),\n",
    "                        (molecular_position[6], molecular_position[7], molecular_position[8]),\n",
    "                        fe_top, fe_bottom, fe_climbing, fe_bridge, fe_trough]\n",
    "                       for molecular_position in molecular_positions]"
   ]
  },
  {
   "cell_type": "markdown",
   "id": "12031468-98b5-4d5b-b986-d829777eafd3",
   "metadata": {},
   "source": [
    "Create traj file"
   ]
  },
  {
   "cell_type": "code",
   "execution_count": 6,
   "id": "787c0d70-22e9-4b68-88d0-22eedf5307a5",
   "metadata": {},
   "outputs": [],
   "source": [
    "# Example atomic symbols\n",
    "symbols = ['N', 'H', 'H', 'Fe', 'Fe', 'Fe', 'Fe', 'Fe']\n",
    "\n",
    "# Create a Trajectory object\n",
    "traj = Trajectory('molecule 1e-3.traj', 'w')\n",
    "\n",
    "# Loop through each frame and create an Atoms object\n",
    "for frame in molecular_positions:\n",
    "    atoms = Atoms(symbols=symbols, positions=frame)\n",
    "    traj.write(atoms, rotation=\"22z\")\n",
    "\n",
    "# Close the trajectory file\n",
    "traj.close()"
   ]
  },
  {
   "cell_type": "markdown",
   "id": "6f0d2616-e11e-430c-991b-b22b48fdd0dd",
   "metadata": {},
   "source": [
    "## Animate trajectory"
   ]
  },
  {
   "cell_type": "markdown",
   "id": "55742ab2-984e-4056-b9e4-f1553c4cf15f",
   "metadata": {},
   "source": [
    "`ase gui molecule.traj`"
   ]
  },
  {
   "cell_type": "code",
   "execution_count": 19,
   "id": "d038535a-1903-47b6-9593-f21e7e77b222",
   "metadata": {},
   "outputs": [],
   "source": [
    "size=(3,1,1)"
   ]
  },
  {
   "cell_type": "code",
   "execution_count": 26,
   "id": "b10b15b6-3397-4a11-9dbd-e2c91c9dabd4",
   "metadata": {},
   "outputs": [
    {
     "data": {
      "application/vnd.jupyter.widget-view+json": {
       "model_id": "a04fcbbc2e6d45f5af1f1f46c3f534bd",
       "version_major": 2,
       "version_minor": 0
      },
      "text/plain": [
       "HBox(children=(NGLWidget(), VBox(children=(Dropdown(description='Show', options=('All', 'Fe'), value='All'), D…"
      ]
     },
     "execution_count": 26,
     "metadata": {},
     "output_type": "execute_result"
    }
   ],
   "source": [
    "from ase.build import bulk, surface\n",
    "from ase.visualize import view\n",
    "\n",
    "# Create bulk BCC iron\n",
    "bulk_fe = bulk('Fe', 'bcc', a=2.856)  # lattice constant for BCC iron\n",
    "\n",
    "# Create the (211) surface with 3 layers and 10 Å vacuum\n",
    "fe_211_surface = surface(bulk_fe, (2, 1, 1), layers=3, vacuum=10.0)\n",
    "\n",
    "# Center the surface slab in the cell\n",
    "fe_211_surface.center(axis=2)\n",
    "\n",
    "# View the structure\n",
    "view(fe_211_surface, viewer='ngl')"
   ]
  },
  {
   "cell_type": "code",
   "execution_count": 16,
   "id": "01f2d0b3-6847-462f-a045-c0d49617b3fc",
   "metadata": {},
   "outputs": [
    {
     "data": {
      "application/vnd.jupyter.widget-view+json": {
       "model_id": "bf7ab414918944ad9a2cad7c537160a4",
       "version_major": 2,
       "version_minor": 0
      },
      "text/plain": [
       "HBox(children=(NGLWidget(), VBox(children=(Dropdown(description='Show', options=('All', 'Fe'), value='All'), D…"
      ]
     },
     "execution_count": 16,
     "metadata": {},
     "output_type": "execute_result"
    }
   ],
   "source": [
    "#coords = [-4.3857516, 2.42202895, -4.41477892, -3.88343244,  2.62167029, -4.71856799, -4.65836314,  2.78615741, -3.9935248]\n",
    "\n",
    "fe_top = [1.0, 0.0, 0.50]\n",
    "fe_bottom = [0.69, 0.14, 0.36]\n",
    "fe_climbing = [0.63, 0.58, 0.44]\n",
    "fe_bridge = [0.7, 1.0, 0.44]\n",
    "fe_trough = [0.59, 0.5, 0.31]\n",
    "\n",
    "\n",
    "fe_lattice = Atoms(\n",
    " #   f\"FeFeFeFeFeNHH\",\n",
    "    f\"FeFeFeFeFe\",\n",
    "    np.concatenate(\n",
    "        [\n",
    "            [fe_top, fe_bottom, fe_climbing, fe_bridge, fe_trough],\n",
    "           # np.reshape(coords, (-1, 3)),\n",
    "        ],        \n",
    "    ),\n",
    ")\n",
    "\n",
    "view(fe_lattice, viewer='ngl')"
   ]
  },
  {
   "cell_type": "code",
   "execution_count": 46,
   "id": "45842bd9-a3fb-45a2-97b6-12de5d6774cb",
   "metadata": {},
   "outputs": [
    {
     "data": {
      "application/vnd.jupyter.widget-view+json": {
       "model_id": "6bf3cfe0fea24c549358a3d8a6f95834",
       "version_major": 2,
       "version_minor": 0
      },
      "text/plain": [
       "HBox(children=(NGLWidget(), VBox(children=(Dropdown(description='Show', options=('All', 'Fe'), value='All'), D…"
      ]
     },
     "execution_count": 46,
     "metadata": {},
     "output_type": "execute_result"
    }
   ],
   "source": [
    "from ase import Atoms\n",
    "from ase.build import fcc211, bulk\n",
    "from ase.io import read, write\n",
    "\n",
    "a = 2.586  # vertex constant\n",
    "\n",
    "slab = fcc211('Fe', (3, 2, 3), a=a)\n",
    "view(slab, viewer='ngl')"
   ]
  },
  {
   "cell_type": "code",
   "execution_count": 47,
   "id": "2efa814e-9d3a-4f73-b64c-75f0aba555e8",
   "metadata": {},
   "outputs": [
    {
     "data": {
      "text/plain": [
       "array([[ 2.98605559e+00,  9.14289068e-01,  4.22292032e+00],\n",
       "       [ 2.98605559e+00,  2.74286720e+00,  4.22292032e+00],\n",
       "       [ 1.49302780e+00, -1.43551837e-16,  3.69505528e+00],\n",
       "       [ 1.49302780e+00,  1.82857814e+00,  3.69505528e+00],\n",
       "       [ 1.25981645e-16,  9.14289068e-01,  3.16719024e+00],\n",
       "       [ 1.25981645e-16,  2.74286720e+00,  3.16719024e+00],\n",
       "       [ 2.98605559e+00, -1.40760964e-16,  2.63932520e+00],\n",
       "       [ 2.98605559e+00,  1.82857814e+00,  2.63932520e+00],\n",
       "       [ 1.49302780e+00,  9.14289068e-01,  2.11146016e+00],\n",
       "       [ 1.49302780e+00,  2.74286720e+00,  2.11146016e+00],\n",
       "       [ 0.00000000e+00,  0.00000000e+00,  1.58359512e+00],\n",
       "       [ 0.00000000e+00,  1.82857814e+00,  1.58359512e+00],\n",
       "       [ 2.98605559e+00,  9.14289068e-01,  1.05573008e+00],\n",
       "       [ 2.98605559e+00,  2.74286720e+00,  1.05573008e+00],\n",
       "       [ 1.49302780e+00, -1.43551837e-16,  5.27865040e-01],\n",
       "       [ 1.49302780e+00,  1.82857814e+00,  5.27865040e-01],\n",
       "       [ 1.25981645e-16,  9.14289068e-01,  0.00000000e+00],\n",
       "       [ 1.25981645e-16,  2.74286720e+00,  0.00000000e+00]])"
      ]
     },
     "execution_count": 47,
     "metadata": {},
     "output_type": "execute_result"
    }
   ],
   "source": [
    "slab.get_positions()"
   ]
  }
 ],
 "metadata": {
  "kernelspec": {
   "display_name": "Python 3 (ipykernel)",
   "language": "python",
   "name": "python3"
  },
  "language_info": {
   "codemirror_mode": {
    "name": "ipython",
    "version": 3
   },
   "file_extension": ".py",
   "mimetype": "text/x-python",
   "name": "python",
   "nbconvert_exporter": "python",
   "pygments_lexer": "ipython3",
   "version": "3.10.4"
  }
 },
 "nbformat": 4,
 "nbformat_minor": 5
}
