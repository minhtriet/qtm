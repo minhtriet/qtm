{
 "cells": [
  {
   "cell_type": "code",
   "execution_count": 1,
   "id": "645f215d-77d2-4552-8eaf-4506f219f329",
   "metadata": {},
   "outputs": [],
   "source": [
    "import pennylane as qml\n",
    "from pennylane import numpy as np\n",
    "import jax\n",
    "import optax"
   ]
  },
  {
   "cell_type": "code",
   "execution_count": 2,
   "id": "ec1dd27f-9c3b-4cec-b489-47af4c0c24bd",
   "metadata": {},
   "outputs": [],
   "source": [
    "dev = qml.device(\"default.qubit\", 4)\n",
    "\n",
    "@qml.qnode(dev)\n",
    "def circuit_expected(H):\n",
    "    qml.BasisState([1,1,0,0], wires=[0, 1, 2, 3])\n",
    "    qml.DoubleExcitation(0.2, wires=[0, 1, 2, 3])\n",
    "    return qml.expval(H)"
   ]
  },
  {
   "cell_type": "code",
   "execution_count": 6,
   "id": "2997a26f-be8a-4ca5-ba8f-eb879e18f711",
   "metadata": {},
   "outputs": [],
   "source": [
    "def loss_f(coord):\n",
    "    symbols = [\"H\", \"H\"]\n",
    "    H_0 = np.array([0.,0.,0.])  # fixed\n",
    "    H, qb = qml.qchem.molecular_hamiltonian(symbols, np.array([*H_0, *coord]))\n",
    "    return circuit_expected(H)"
   ]
  },
  {
   "cell_type": "code",
   "execution_count": 7,
   "id": "b7e0d576-63f3-4758-ac4c-f48cc501e7d5",
   "metadata": {},
   "outputs": [
    {
     "ename": "TracerArrayConversionError",
     "evalue": "The numpy.ndarray conversion method __array__() was called on traced array with shape float32[].\nSee https://jax.readthedocs.io/en/latest/errors.html#jax.errors.TracerArrayConversionError",
     "output_type": "error",
     "traceback": [
      "\u001b[0;31m---------------------------------------------------------------------------\u001b[0m",
      "\u001b[0;31mTracerArrayConversionError\u001b[0m                Traceback (most recent call last)",
      "Cell \u001b[0;32mIn[7], line 19\u001b[0m\n\u001b[1;32m     16\u001b[0m         H_1 \u001b[38;5;241m=\u001b[39m optax\u001b[38;5;241m.\u001b[39mapply_updates(H_1, updates)\n\u001b[1;32m     17\u001b[0m         \u001b[38;5;28mprint\u001b[39m(grad_coordinates)\n\u001b[0;32m---> 19\u001b[0m \u001b[43moptimize\u001b[49m\u001b[43m(\u001b[49m\u001b[43m)\u001b[49m\n",
      "Cell \u001b[0;32mIn[7], line 14\u001b[0m, in \u001b[0;36moptimize\u001b[0;34m()\u001b[0m\n\u001b[1;32m     11\u001b[0m opt_coords_state \u001b[38;5;241m=\u001b[39m opt\u001b[38;5;241m.\u001b[39minit(H_1)\n\u001b[1;32m     13\u001b[0m \u001b[38;5;28;01mfor\u001b[39;00m i \u001b[38;5;129;01min\u001b[39;00m \u001b[38;5;28mrange\u001b[39m(\u001b[38;5;241m10\u001b[39m):        \n\u001b[0;32m---> 14\u001b[0m     grad_coordinates \u001b[38;5;241m=\u001b[39m \u001b[43mjax\u001b[49m\u001b[38;5;241;43m.\u001b[39;49m\u001b[43mgrad\u001b[49m\u001b[43m(\u001b[49m\u001b[43mloss_f\u001b[49m\u001b[43m,\u001b[49m\u001b[43m \u001b[49m\u001b[38;5;241;43m0\u001b[39;49m\u001b[43m)\u001b[49m\u001b[43m(\u001b[49m\u001b[43mH_1\u001b[49m\u001b[43m)\u001b[49m\n\u001b[1;32m     15\u001b[0m     updates, opt_coords_state \u001b[38;5;241m=\u001b[39m opt\u001b[38;5;241m.\u001b[39mupdate(grad_coordinates, opt_coords_state)\n\u001b[1;32m     16\u001b[0m     H_1 \u001b[38;5;241m=\u001b[39m optax\u001b[38;5;241m.\u001b[39mapply_updates(H_1, updates)\n",
      "    \u001b[0;31m[... skipping hidden 10 frame]\u001b[0m\n",
      "Cell \u001b[0;32mIn[6], line 4\u001b[0m, in \u001b[0;36mloss_f\u001b[0;34m(coord)\u001b[0m\n\u001b[1;32m      2\u001b[0m symbols \u001b[38;5;241m=\u001b[39m [\u001b[38;5;124m\"\u001b[39m\u001b[38;5;124mH\u001b[39m\u001b[38;5;124m\"\u001b[39m, \u001b[38;5;124m\"\u001b[39m\u001b[38;5;124mH\u001b[39m\u001b[38;5;124m\"\u001b[39m]\n\u001b[1;32m      3\u001b[0m H_0 \u001b[38;5;241m=\u001b[39m np\u001b[38;5;241m.\u001b[39marray([\u001b[38;5;241m0.\u001b[39m,\u001b[38;5;241m0.\u001b[39m,\u001b[38;5;241m0.\u001b[39m])  \u001b[38;5;66;03m# fixed\u001b[39;00m\n\u001b[0;32m----> 4\u001b[0m H, qb \u001b[38;5;241m=\u001b[39m qml\u001b[38;5;241m.\u001b[39mqchem\u001b[38;5;241m.\u001b[39mmolecular_hamiltonian(symbols, \u001b[43mnp\u001b[49m\u001b[38;5;241;43m.\u001b[39;49m\u001b[43marray\u001b[49m\u001b[43m(\u001b[49m\u001b[43m[\u001b[49m\u001b[38;5;241;43m*\u001b[39;49m\u001b[43mH_0\u001b[49m\u001b[43m,\u001b[49m\u001b[43m \u001b[49m\u001b[38;5;241;43m*\u001b[39;49m\u001b[43mcoord\u001b[49m\u001b[43m]\u001b[49m\u001b[43m)\u001b[49m)\n\u001b[1;32m      5\u001b[0m \u001b[38;5;28;01mreturn\u001b[39;00m circuit_expected(H)\n",
      "File \u001b[0;32m~/code/qtm/venv/lib/python3.10/site-packages/pennylane/numpy/wrapper.py:117\u001b[0m, in \u001b[0;36mtensor_wrapper.<locals>._wrapped\u001b[0;34m(*args, **kwargs)\u001b[0m\n\u001b[1;32m    114\u001b[0m         tensor_kwargs[\u001b[38;5;124m\"\u001b[39m\u001b[38;5;124mrequires_grad\u001b[39m\u001b[38;5;124m\"\u001b[39m] \u001b[38;5;241m=\u001b[39m _np\u001b[38;5;241m.\u001b[39many([i\u001b[38;5;241m.\u001b[39mrequires_grad \u001b[38;5;28;01mfor\u001b[39;00m i \u001b[38;5;129;01min\u001b[39;00m tensor_args])\n\u001b[1;32m    116\u001b[0m \u001b[38;5;66;03m# evaluate the original object\u001b[39;00m\n\u001b[0;32m--> 117\u001b[0m res \u001b[38;5;241m=\u001b[39m \u001b[43mobj\u001b[49m\u001b[43m(\u001b[49m\u001b[38;5;241;43m*\u001b[39;49m\u001b[43margs\u001b[49m\u001b[43m,\u001b[49m\u001b[43m \u001b[49m\u001b[38;5;241;43m*\u001b[39;49m\u001b[38;5;241;43m*\u001b[39;49m\u001b[43mkwargs\u001b[49m\u001b[43m)\u001b[49m\n\u001b[1;32m    119\u001b[0m \u001b[38;5;28;01mif\u001b[39;00m \u001b[38;5;28misinstance\u001b[39m(res, _np\u001b[38;5;241m.\u001b[39mndarray):\n\u001b[1;32m    120\u001b[0m     \u001b[38;5;66;03m# only if the output of the object is a ndarray,\u001b[39;00m\n\u001b[1;32m    121\u001b[0m     \u001b[38;5;66;03m# then convert to a PennyLane tensor\u001b[39;00m\n\u001b[1;32m    122\u001b[0m     res \u001b[38;5;241m=\u001b[39m tensor(res, \u001b[38;5;241m*\u001b[39m\u001b[38;5;241m*\u001b[39mtensor_kwargs)\n",
      "File \u001b[0;32m~/code/qtm/venv/lib/python3.10/site-packages/autograd/numpy/numpy_wrapper.py:58\u001b[0m, in \u001b[0;36marray\u001b[0;34m(A, *args, **kwargs)\u001b[0m\n\u001b[1;32m     56\u001b[0m t \u001b[38;5;241m=\u001b[39m builtins\u001b[38;5;241m.\u001b[39mtype(A)\n\u001b[1;32m     57\u001b[0m \u001b[38;5;28;01mif\u001b[39;00m t \u001b[38;5;129;01min\u001b[39;00m (\u001b[38;5;28mlist\u001b[39m, \u001b[38;5;28mtuple\u001b[39m):\n\u001b[0;32m---> 58\u001b[0m     \u001b[38;5;28;01mreturn\u001b[39;00m array_from_args(args, kwargs, \u001b[38;5;241m*\u001b[39m\u001b[38;5;28mmap\u001b[39m(array, A))\n\u001b[1;32m     59\u001b[0m \u001b[38;5;28;01melse\u001b[39;00m:\n\u001b[1;32m     60\u001b[0m     \u001b[38;5;28;01mreturn\u001b[39;00m _array_from_scalar_or_array(args, kwargs, A)\n",
      "File \u001b[0;32m~/code/qtm/venv/lib/python3.10/site-packages/autograd/numpy/numpy_wrapper.py:60\u001b[0m, in \u001b[0;36marray\u001b[0;34m(A, *args, **kwargs)\u001b[0m\n\u001b[1;32m     58\u001b[0m     \u001b[38;5;28;01mreturn\u001b[39;00m array_from_args(args, kwargs, \u001b[38;5;241m*\u001b[39m\u001b[38;5;28mmap\u001b[39m(array, A))\n\u001b[1;32m     59\u001b[0m \u001b[38;5;28;01melse\u001b[39;00m:\n\u001b[0;32m---> 60\u001b[0m     \u001b[38;5;28;01mreturn\u001b[39;00m \u001b[43m_array_from_scalar_or_array\u001b[49m\u001b[43m(\u001b[49m\u001b[43margs\u001b[49m\u001b[43m,\u001b[49m\u001b[43m \u001b[49m\u001b[43mkwargs\u001b[49m\u001b[43m,\u001b[49m\u001b[43m \u001b[49m\u001b[43mA\u001b[49m\u001b[43m)\u001b[49m\n",
      "File \u001b[0;32m~/code/qtm/venv/lib/python3.10/site-packages/autograd/tracer.py:48\u001b[0m, in \u001b[0;36mprimitive.<locals>.f_wrapped\u001b[0;34m(*args, **kwargs)\u001b[0m\n\u001b[1;32m     46\u001b[0m     \u001b[38;5;28;01mreturn\u001b[39;00m new_box(ans, trace, node)\n\u001b[1;32m     47\u001b[0m \u001b[38;5;28;01melse\u001b[39;00m:\n\u001b[0;32m---> 48\u001b[0m     \u001b[38;5;28;01mreturn\u001b[39;00m \u001b[43mf_raw\u001b[49m\u001b[43m(\u001b[49m\u001b[38;5;241;43m*\u001b[39;49m\u001b[43margs\u001b[49m\u001b[43m,\u001b[49m\u001b[43m \u001b[49m\u001b[38;5;241;43m*\u001b[39;49m\u001b[38;5;241;43m*\u001b[39;49m\u001b[43mkwargs\u001b[49m\u001b[43m)\u001b[49m\n",
      "File \u001b[0;32m~/code/qtm/venv/lib/python3.10/site-packages/autograd/numpy/numpy_wrapper.py:73\u001b[0m, in \u001b[0;36m_array_from_scalar_or_array\u001b[0;34m(array_args, array_kwargs, scalar)\u001b[0m\n\u001b[1;32m     71\u001b[0m \u001b[38;5;129m@primitive\u001b[39m\n\u001b[1;32m     72\u001b[0m \u001b[38;5;28;01mdef\u001b[39;00m \u001b[38;5;21m_array_from_scalar_or_array\u001b[39m(array_args, array_kwargs, scalar):\n\u001b[0;32m---> 73\u001b[0m     \u001b[38;5;28;01mreturn\u001b[39;00m \u001b[43m_np\u001b[49m\u001b[38;5;241;43m.\u001b[39;49m\u001b[43marray\u001b[49m\u001b[43m(\u001b[49m\u001b[43mscalar\u001b[49m\u001b[43m,\u001b[49m\u001b[43m \u001b[49m\u001b[38;5;241;43m*\u001b[39;49m\u001b[43marray_args\u001b[49m\u001b[43m,\u001b[49m\u001b[43m \u001b[49m\u001b[38;5;241;43m*\u001b[39;49m\u001b[38;5;241;43m*\u001b[39;49m\u001b[43marray_kwargs\u001b[49m\u001b[43m)\u001b[49m\n",
      "File \u001b[0;32m~/code/qtm/venv/lib/python3.10/site-packages/jax/_src/core.py:650\u001b[0m, in \u001b[0;36mTracer.__array__\u001b[0;34m(self, *args, **kw)\u001b[0m\n\u001b[1;32m    649\u001b[0m \u001b[38;5;28;01mdef\u001b[39;00m \u001b[38;5;21m__array__\u001b[39m(\u001b[38;5;28mself\u001b[39m, \u001b[38;5;241m*\u001b[39margs, \u001b[38;5;241m*\u001b[39m\u001b[38;5;241m*\u001b[39mkw):\n\u001b[0;32m--> 650\u001b[0m   \u001b[38;5;28;01mraise\u001b[39;00m TracerArrayConversionError(\u001b[38;5;28mself\u001b[39m)\n",
      "\u001b[0;31mTracerArrayConversionError\u001b[0m: The numpy.ndarray conversion method __array__() was called on traced array with shape float32[].\nSee https://jax.readthedocs.io/en/latest/errors.html#jax.errors.TracerArrayConversionError"
     ]
    }
   ],
   "source": [
    "def optimize():\n",
    "    \n",
    "    H_1 = np.array([1.,1.,1.])\n",
    "    \n",
    "    # prepare for the 1st run\n",
    "    conv_tol = 1e-6\n",
    "    opt = optax.sgd(learning_rate=0.4)\n",
    "\n",
    "    max_iterations = 100\n",
    "    opt = optax.sgd(learning_rate=0.4)\n",
    "    opt_coords_state = opt.init(H_1)\n",
    "    \n",
    "    for i in range(10):        \n",
    "        grad_coordinates = jax.grad(loss_f, 0)(H_1)\n",
    "        updates, opt_coords_state = opt.update(grad_coordinates, opt_coords_state)\n",
    "        H_1 = optax.apply_updates(H_1, updates)\n",
    "        print(grad_coordinates)\n",
    "    \n",
    "optimize()"
   ]
  }
 ],
 "metadata": {
  "kernelspec": {
   "display_name": "Python 3 (ipykernel)",
   "language": "python",
   "name": "python3"
  },
  "language_info": {
   "codemirror_mode": {
    "name": "ipython",
    "version": 3
   },
   "file_extension": ".py",
   "mimetype": "text/x-python",
   "name": "python",
   "nbconvert_exporter": "python",
   "pygments_lexer": "ipython3",
   "version": "3.10.11"
  }
 },
 "nbformat": 4,
 "nbformat_minor": 5
}
