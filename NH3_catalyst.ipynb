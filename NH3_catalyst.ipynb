{
 "cells": [
  {
   "cell_type": "markdown",
   "id": "85082c0d-533d-452e-92aa-a9f08bb49cbb",
   "metadata": {},
   "source": [
    "# Simulating the Harber Bosch process with quantum computing"
   ]
  },
  {
   "cell_type": "markdown",
   "id": "81f3664e-3f22-42b4-94e4-d59435e7539a",
   "metadata": {
    "jp-MarkdownHeadingCollapsed": true
   },
   "source": [
    "## Progress\n",
    "\n",
    "- [x] Hamiltonian `H_1` for all components\n",
    "- [ ] Reduce number of terms for `H_1`\n",
    "- [ ] LCU to simulate `H_1`"
   ]
  },
  {
   "cell_type": "markdown",
   "id": "d97e6245-b471-4b0e-88e0-b4128f1d809b",
   "metadata": {},
   "source": [
    "## Code"
   ]
  },
  {
   "cell_type": "code",
   "execution_count": 2,
   "id": "a80297b4-5da0-49d4-b627-42d015b7148d",
   "metadata": {},
   "outputs": [],
   "source": [
    "import pennylane as qml\n",
    "from pennylane import numpy as np\n",
    "from pennylane import qchem"
   ]
  },
  {
   "cell_type": "markdown",
   "id": "f2e73b76-5cc7-480e-bcc7-d1d93a249e90",
   "metadata": {},
   "source": [
    "### Define Hamiltonian"
   ]
  },
  {
   "cell_type": "code",
   "execution_count": 3,
   "id": "c64f86d5-a954-4862-872a-c092776b867a",
   "metadata": {},
   "outputs": [],
   "source": [
    "symbols = [\"Fe\", \"N\", \"N\", \"H\", \"H\"]\n",
    "coordinates = np.array([0.0, 0.0, 0.0, \n",
    "                        0.0, 0.0, 0.2,\n",
    "                        0.0, 0.0, 0.3,\n",
    "                        0.0, 0.0, -0.2,\n",
    "                        0.0, 0.0, -0.3,\n",
    "                       ])\n",
    "# H, qubits = qchem.molecular_hamiltonian(symbols, coordinates, method='pyscf')"
   ]
  },
  {
   "cell_type": "code",
   "execution_count": 5,
   "id": "192e5dda-ab51-447c-966c-ea0fef75def1",
   "metadata": {},
   "outputs": [
    {
     "data": {
      "text/plain": [
       "60"
      ]
     },
     "execution_count": 5,
     "metadata": {},
     "output_type": "execute_result"
    }
   ],
   "source": [
    "qubits"
   ]
  },
  {
   "cell_type": "code",
   "execution_count": 24,
   "id": "92d976f4-5053-4c12-8d96-ef418ee9de52",
   "metadata": {},
   "outputs": [
    {
     "data": {
      "text/plain": [
       "<Dataset = molname: N2, basis: STO-3G, bondlength: 1.12, attributes: ['basis', 'basis_rot_groupings', ...]>"
      ]
     },
     "execution_count": 24,
     "metadata": {},
     "output_type": "execute_result"
    }
   ],
   "source": [
    "dataset_N2 = qml.data.load(\"qchem\", molname=\"N2\", bondlength=1.12, basis=\"STO-3G\")\n",
    "dataset_N2[0]"
   ]
  },
  {
   "cell_type": "code",
   "execution_count": 29,
   "id": "b96a4a53-f287-4840-8f01-d3a6dcd0b129",
   "metadata": {},
   "outputs": [],
   "source": [
    "H_N2 = dataset_N2[0].hamiltonian"
   ]
  },
  {
   "cell_type": "code",
   "execution_count": 30,
   "id": "671397a8-fda5-4a15-adb5-bbdbf704e576",
   "metadata": {},
   "outputs": [
    {
     "name": "stdout",
     "output_type": "stream",
     "text": [
      "<Hamiltonian: terms=2951, wires=[0, 1, 2, 3, 4, 5, 6, 7, 8, 9, 10, 11, 12, 13, 14, 15, 16, 17, 18, 19]>\n"
     ]
    }
   ],
   "source": [
    "H_N2"
   ]
  },
  {
   "cell_type": "markdown",
   "id": "6ec2ced1-4fe7-4fc2-8972-e83591a74052",
   "metadata": {},
   "source": [
    "For iron, the outer orbitals are $4s2, 3d6$. They are configured as\n",
    "- $4s2:\\uparrow \\downarrow$\n",
    "- $3d6:\\uparrow \\downarrow,\\uparrow,\\uparrow,\\uparrow,\\uparrow $\n",
    "\n",
    "Therefore there are four active oribitals"
   ]
  },
  {
   "cell_type": "code",
   "execution_count": 17,
   "id": "cd2cf36f-9db0-44f8-a37e-f56a257431f7",
   "metadata": {},
   "outputs": [],
   "source": [
    "symbols_Fe = [\"Fe\"]\n",
    "coordinates_Fe = np.array([0.0, 0.0, 0.0])\n",
    "H_Fe, qubits_Fe = qchem.molecular_hamiltonian(symbols_Fe, coordinates_Fe, \n",
    "                                              active_orbitals=14, method='pyscf')\n",
    "# 4 doesn't work somehow\n",
    "# with setting 14 active orbitals: 23k terms\n",
    "# without setting: 66k terms"
   ]
  },
  {
   "cell_type": "code",
   "execution_count": 16,
   "id": "a4a35323-8e03-436c-a69d-1f748e3017f1",
   "metadata": {},
   "outputs": [
    {
     "name": "stdout",
     "output_type": "stream",
     "text": [
      "<Hamiltonian: terms=23319, wires=[0, 1, 2, 3, 4, 5, 6, 7, 8, 9, 10, 11, 12, 13, 14, 15, 16, 17, 18, 19, 20, 21, 22, 23, 24, 25, 26, 27]>\n"
     ]
    }
   ],
   "source": [
    "H_Fe"
   ]
  },
  {
   "cell_type": "markdown",
   "id": "899bdf75-7559-4f19-ae73-b71940c3d60b",
   "metadata": {},
   "source": [
    "### Simulate Hamiltonian"
   ]
  },
  {
   "cell_type": "code",
   "execution_count": 38,
   "id": "8c271675-5cc9-4b96-ba9e-598ae5c09385",
   "metadata": {},
   "outputs": [
    {
     "name": "stderr",
     "output_type": "stream",
     "text": [
      "\n",
      "KeyboardInterrupt\n",
      "\n"
     ]
    }
   ],
   "source": [
    "qml.matrix(H_Fe)"
   ]
  },
  {
   "cell_type": "markdown",
   "id": "991b4a7b-875d-4571-9ebe-dac2650b7dd4",
   "metadata": {},
   "source": [
    "## Next step / meeting minute\n",
    "\n",
    "### 2nd week\n",
    "\n",
    "### 1st week\n",
    "1. Use params `active_electrons`, `active_orbitals` inside `molecular_hamiltonian`\n",
    "    1. Principled way to do it without knowing Fe is catalyst?\n",
    "       > valence electron in the outer shell, choose the radius (coordinate?)\n",
    "    2. Coordinates\n",
    "       > coordinate for reactant, coordinate for products may be in somewhere else\n",
    "       > evaluate energy at a lot of different coordinates?\n",
    "       > Put H2 N2 Fe closer and then farther to see what happens. There must be a method\n",
    "    3. QPE\n",
    "       > Time evolution. Trotter, LCU (build different matrix, one of them is time evolution), Qubitizations\n",
    "2. ZNE?\n",
    "    1. If it concat a chain of gates, could the real system reach the end of the gates?\n",
    "    2. Doesn't seem to need more qubit?"
   ]
  }
 ],
 "metadata": {
  "kernelspec": {
   "display_name": "Python 3 (ipykernel)",
   "language": "python",
   "name": "python3"
  },
  "language_info": {
   "codemirror_mode": {
    "name": "ipython",
    "version": 3
   },
   "file_extension": ".py",
   "mimetype": "text/x-python",
   "name": "python",
   "nbconvert_exporter": "python",
   "pygments_lexer": "ipython3",
   "version": "3.10.11"
  }
 },
 "nbformat": 4,
 "nbformat_minor": 5
}
