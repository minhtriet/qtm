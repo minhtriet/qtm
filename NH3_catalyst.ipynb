{
 "cells": [
  {
   "cell_type": "code",
   "execution_count": 1,
   "id": "a80297b4-5da0-49d4-b627-42d015b7148d",
   "metadata": {},
   "outputs": [],
   "source": [
    "from pyscf import gto, scf, ci\n",
    "from pennylane.qchem import import_state\n",
    "from pennylane import numpy as np\n",
    "\n",
    "# # create the Fe atom\n",
    "# mol = gto.M(atom=[\"Fe\", (0, 0, 0)])\n",
    "# # perfrom restricted Hartree-Fock and then CISD\n",
    "# myhf = scf.RHF(mol).run()\n",
    "# myci = ci.CISD(myhf).run()\n",
    "# wf_cisd = import_state(myci, tol=1e-1)\n",
    "# print(f\"CISD-based state vector: \\n{np.round(wf_cisd.real, 4)}\")"
   ]
  },
  {
   "cell_type": "code",
   "execution_count": 2,
   "id": "c64f86d5-a954-4862-872a-c092776b867a",
   "metadata": {},
   "outputs": [
    {
     "ename": "ImportError",
     "evalue": "This feature requires openfermionpyscf. It can be installed with: pip install openfermionpyscf.",
     "output_type": "error",
     "traceback": [
      "\u001b[0;31m---------------------------------------------------------------------------\u001b[0m",
      "\u001b[0;31mModuleNotFoundError\u001b[0m                       Traceback (most recent call last)",
      "File \u001b[0;32m~/code/qtm/venv/lib/python3.10/site-packages/pennylane/qchem/openfermion_obs.py:33\u001b[0m, in \u001b[0;36m_import_of\u001b[0;34m()\u001b[0m\n\u001b[1;32m     31\u001b[0m \u001b[38;5;28;01mtry\u001b[39;00m:\n\u001b[1;32m     32\u001b[0m     \u001b[38;5;66;03m# pylint: disable=import-outside-toplevel, unused-import, multiple-imports\u001b[39;00m\n\u001b[0;32m---> 33\u001b[0m     \u001b[38;5;28;01mimport\u001b[39;00m \u001b[38;5;21;01mopenfermion\u001b[39;00m\u001b[38;5;241m,\u001b[39m \u001b[38;5;21;01mopenfermionpyscf\u001b[39;00m\n\u001b[1;32m     34\u001b[0m \u001b[38;5;28;01mexcept\u001b[39;00m \u001b[38;5;167;01mImportError\u001b[39;00m \u001b[38;5;28;01mas\u001b[39;00m Error:\n",
      "\u001b[0;31mModuleNotFoundError\u001b[0m: No module named 'openfermionpyscf'",
      "\nThe above exception was the direct cause of the following exception:\n",
      "\u001b[0;31mImportError\u001b[0m                               Traceback (most recent call last)",
      "Cell \u001b[0;32mIn[2], line 5\u001b[0m\n\u001b[1;32m      3\u001b[0m symbols \u001b[38;5;241m=\u001b[39m [\u001b[38;5;124m\"\u001b[39m\u001b[38;5;124mFe\u001b[39m\u001b[38;5;124m\"\u001b[39m]\n\u001b[1;32m      4\u001b[0m coordinates \u001b[38;5;241m=\u001b[39m np\u001b[38;5;241m.\u001b[39marray([\u001b[38;5;241m0.0\u001b[39m, \u001b[38;5;241m0.0\u001b[39m, \u001b[38;5;241m0.0\u001b[39m])\n\u001b[0;32m----> 5\u001b[0m H, qubits \u001b[38;5;241m=\u001b[39m \u001b[43mqchem\u001b[49m\u001b[38;5;241;43m.\u001b[39;49m\u001b[43mmolecular_hamiltonian\u001b[49m\u001b[43m(\u001b[49m\u001b[43msymbols\u001b[49m\u001b[43m,\u001b[49m\u001b[43m \u001b[49m\u001b[43mcoordinates\u001b[49m\u001b[43m,\u001b[49m\u001b[43m \u001b[49m\u001b[43mmethod\u001b[49m\u001b[38;5;241;43m=\u001b[39;49m\u001b[38;5;124;43m'\u001b[39;49m\u001b[38;5;124;43mpyscf\u001b[39;49m\u001b[38;5;124;43m'\u001b[39;49m\u001b[43m)\u001b[49m\n",
      "File \u001b[0;32m~/code/qtm/venv/lib/python3.10/site-packages/pennylane/qchem/openfermion_obs.py:967\u001b[0m, in \u001b[0;36mmolecular_hamiltonian\u001b[0;34m(symbols, coordinates, name, charge, mult, basis, method, active_electrons, active_orbitals, mapping, outpath, wires, alpha, coeff, args, load_data, convert_tol)\u001b[0m\n\u001b[1;32m    964\u001b[0m         h \u001b[38;5;241m=\u001b[39m qml\u001b[38;5;241m.\u001b[39mmap_wires(h, wires_map)\n\u001b[1;32m    965\u001b[0m     \u001b[38;5;28;01mreturn\u001b[39;00m h, \u001b[38;5;241m2\u001b[39m \u001b[38;5;241m*\u001b[39m \u001b[38;5;28mlen\u001b[39m(active)\n\u001b[0;32m--> 967\u001b[0m openfermion, _ \u001b[38;5;241m=\u001b[39m \u001b[43m_import_of\u001b[49m\u001b[43m(\u001b[49m\u001b[43m)\u001b[49m\n\u001b[1;32m    969\u001b[0m hf_file \u001b[38;5;241m=\u001b[39m meanfield(symbols, geometry_hf, name, charge, mult, basis, method, outpath)\n\u001b[1;32m    971\u001b[0m molecule \u001b[38;5;241m=\u001b[39m openfermion\u001b[38;5;241m.\u001b[39mMolecularData(filename\u001b[38;5;241m=\u001b[39mhf_file)\n",
      "File \u001b[0;32m~/code/qtm/venv/lib/python3.10/site-packages/pennylane/qchem/openfermion_obs.py:35\u001b[0m, in \u001b[0;36m_import_of\u001b[0;34m()\u001b[0m\n\u001b[1;32m     33\u001b[0m     \u001b[38;5;28;01mimport\u001b[39;00m \u001b[38;5;21;01mopenfermion\u001b[39;00m\u001b[38;5;241m,\u001b[39m \u001b[38;5;21;01mopenfermionpyscf\u001b[39;00m\n\u001b[1;32m     34\u001b[0m \u001b[38;5;28;01mexcept\u001b[39;00m \u001b[38;5;167;01mImportError\u001b[39;00m \u001b[38;5;28;01mas\u001b[39;00m Error:\n\u001b[0;32m---> 35\u001b[0m     \u001b[38;5;28;01mraise\u001b[39;00m \u001b[38;5;167;01mImportError\u001b[39;00m(\n\u001b[1;32m     36\u001b[0m         \u001b[38;5;124m\"\u001b[39m\u001b[38;5;124mThis feature requires openfermionpyscf. \u001b[39m\u001b[38;5;124m\"\u001b[39m\n\u001b[1;32m     37\u001b[0m         \u001b[38;5;124m\"\u001b[39m\u001b[38;5;124mIt can be installed with: pip install openfermionpyscf.\u001b[39m\u001b[38;5;124m\"\u001b[39m\n\u001b[1;32m     38\u001b[0m     ) \u001b[38;5;28;01mfrom\u001b[39;00m \u001b[38;5;21;01mError\u001b[39;00m\n\u001b[1;32m     40\u001b[0m \u001b[38;5;28;01mreturn\u001b[39;00m openfermion, openfermionpyscf\n",
      "\u001b[0;31mImportError\u001b[0m: This feature requires openfermionpyscf. It can be installed with: pip install openfermionpyscf."
     ]
    }
   ],
   "source": [
    "import numpy as np\n",
    "from pennylane import qchem \n",
    "symbols = [\"Fe\"]\n",
    "coordinates = np.array([0.0, 0.0, 0.0])\n",
    "H, qubits = qchem.molecular_hamiltonian(symbols, coordinates, method='pyscf')"
   ]
  },
  {
   "cell_type": "code",
   "execution_count": 12,
   "id": "92d976f4-5053-4c12-8d96-ef418ee9de52",
   "metadata": {},
   "outputs": [
    {
     "name": "stdout",
     "output_type": "stream",
     "text": [
      "4.0 [0^ 0 1^ 1] +\n",
      "-1.0 [0^ 2] +\n",
      "-1.0 [0^ 18] +\n",
      "-1.0 [1^ 3] +\n",
      "-1.0 [1^ 19] +\n",
      "-1.0 [2^ 0] +\n",
      "4.0 [2^ 2 3^ 3] +\n",
      "-1.0 [2^ 4] +\n",
      "-1.0 [3^ 1] +\n",
      "-1.0 [3^ 5] +\n",
      "-1.0 [4^ 2] +\n",
      "4.0 [4^ 4 5^ 5] +\n",
      "-1.0 [4^ 6] +\n",
      "-1.0 [5^ 3] +\n",
      "-1.0 [5^ 7] +\n",
      "-1.0 [6^ 4] +\n",
      "4.0 [6^ 6 7^ 7] +\n",
      "-1.0 [6^ 8] +\n",
      "-1.0 [7^ 5] +\n",
      "-1.0 [7^ 9] +\n",
      "-1.0 [8^ 6] +\n",
      "4.0 [8^ 8 9^ 9] +\n",
      "-1.0 [8^ 10] +\n",
      "-1.0 [9^ 7] +\n",
      "-1.0 [9^ 11] +\n",
      "-1.0 [10^ 8] +\n",
      "4.0 [10^ 10 11^ 11] +\n",
      "-1.0 [10^ 12] +\n",
      "-1.0 [11^ 9] +\n",
      "-1.0 [11^ 13] +\n",
      "-1.0 [12^ 10] +\n",
      "4.0 [12^ 12 13^ 13] +\n",
      "-1.0 [12^ 14] +\n",
      "-1.0 [13^ 11] +\n",
      "-1.0 [13^ 15] +\n",
      "-1.0 [14^ 12] +\n",
      "4.0 [14^ 14 15^ 15] +\n",
      "-1.0 [14^ 16] +\n",
      "-1.0 [15^ 13] +\n",
      "-1.0 [15^ 17] +\n",
      "-1.0 [16^ 14] +\n",
      "4.0 [16^ 16 17^ 17] +\n",
      "-1.0 [16^ 18] +\n",
      "-1.0 [17^ 15] +\n",
      "-1.0 [17^ 19] +\n",
      "-1.0 [18^ 0] +\n",
      "-1.0 [18^ 16] +\n",
      "4.0 [18^ 18 19^ 19] +\n",
      "-1.0 [19^ 1] +\n",
      "-1.0 [19^ 17]\n"
     ]
    }
   ],
   "source": [
    "from openfermion import FermionOperator, MolecularData\n",
    "from openfermion import fermi_hubbard\n",
    "\n",
    "# Build a Molecule\n",
    "geometry = [['Fe', [0, 0, 0]]]\n",
    "multiplicity = 1\n",
    "basis = 'cc-pvdz'\n",
    "charge = 0\n",
    "molecule = MolecularData(geometry, basis, multiplicity, charge)\n",
    "\n",
    "# Create model hamiltonians on a 1 x 10 lattice\n",
    "hubbard = fermi_hubbard(1, 10, tunneling=1, coulomb=4, periodic=True)\n",
    "print(hubbard)"
   ]
  }
 ],
 "metadata": {
  "kernelspec": {
   "display_name": "Python 3 (ipykernel)",
   "language": "python",
   "name": "python3"
  },
  "language_info": {
   "codemirror_mode": {
    "name": "ipython",
    "version": 3
   },
   "file_extension": ".py",
   "mimetype": "text/x-python",
   "name": "python",
   "nbconvert_exporter": "python",
   "pygments_lexer": "ipython3",
   "version": "3.10.11"
  }
 },
 "nbformat": 4,
 "nbformat_minor": 5
}
