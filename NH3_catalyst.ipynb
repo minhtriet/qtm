{
 "cells": [
  {
   "cell_type": "code",
   "execution_count": 1,
   "id": "a80297b4-5da0-49d4-b627-42d015b7148d",
   "metadata": {},
   "outputs": [],
   "source": [
    "import pennylane as qml\n",
    "from pennylane import numpy as np\n",
    "from pennylane import qchem"
   ]
  },
  {
   "cell_type": "code",
   "execution_count": 3,
   "id": "c64f86d5-a954-4862-872a-c092776b867a",
   "metadata": {},
   "outputs": [],
   "source": [
    "symbols = [\"Fe\", \"N\", \"N\", \"H\", \"H\"]\n",
    "coordinates = np.array([0.0, 0.0, 0.0, \n",
    "                        0.0, 0.0, 0.2,\n",
    "                        0.0, 0.0, 0.3,\n",
    "                        0.0, 0.0, -0.2,\n",
    "                        0.0, 0.0, -0.3,\n",
    "                       ])\n",
    "H, qubits = qchem.molecular_hamiltonian(symbols, coordinates, method='pyscf')"
   ]
  },
  {
   "cell_type": "code",
   "execution_count": 5,
   "id": "192e5dda-ab51-447c-966c-ea0fef75def1",
   "metadata": {},
   "outputs": [
    {
     "data": {
      "text/plain": [
       "60"
      ]
     },
     "execution_count": 5,
     "metadata": {},
     "output_type": "execute_result"
    }
   ],
   "source": [
    "qubits"
   ]
  },
  {
   "cell_type": "code",
   "execution_count": 6,
   "id": "92d976f4-5053-4c12-8d96-ef418ee9de52",
   "metadata": {},
   "outputs": [
    {
     "data": {
      "text/plain": [
       "<Dataset = molname: N2, basis: STO-3G, bondlength: 1.12, attributes: ['basis', 'basis_rot_groupings', ...]>"
      ]
     },
     "execution_count": 6,
     "metadata": {},
     "output_type": "execute_result"
    }
   ],
   "source": [
    "dataset_N2 = qml.data.load(\"qchem\", molname=\"N2\", bondlength=1.12, basis=\"STO-3G\")\n",
    "dataset_N2[0]"
   ]
  },
  {
   "cell_type": "code",
   "execution_count": 7,
   "id": "b96a4a53-f287-4840-8f01-d3a6dcd0b129",
   "metadata": {},
   "outputs": [
    {
     "data": {
      "text/plain": [
       "<Wires = [0, 1, 2, 3, 4, 5, 6, 7, 8, 9, 10, 11, 12, 13, 14, 15, 16, 17, 18, 19]>"
      ]
     },
     "execution_count": 7,
     "metadata": {},
     "output_type": "execute_result"
    }
   ],
   "source": [
    "dataset_N2[0].hamiltonian.wires"
   ]
  },
  {
   "cell_type": "code",
   "execution_count": 8,
   "id": "cd2cf36f-9db0-44f8-a37e-f56a257431f7",
   "metadata": {},
   "outputs": [],
   "source": [
    "symbols_Fe = [\"Fe\"]\n",
    "coordinates_Fe = np.array([0.0, 0.0, 0.0])\n",
    "H_Fe, qubits_Fe = qchem.molecular_hamiltonian(symbols_Fe, coordinates_Fe, method='pyscf')"
   ]
  },
  {
   "cell_type": "code",
   "execution_count": 10,
   "id": "ecb5500d-0462-41d6-930c-94141f6485d7",
   "metadata": {},
   "outputs": [
    {
     "name": "stdout",
     "output_type": "stream",
     "text": [
      "<Hamiltonian: terms=343639, wires=[0, 1, 2, 3, 4, 5, 6, 7, 8, 9, 10, 11, 12, 13, 14, 15, 16, 17, 18, 19, 20, 21, 22, 23, 24, 25, 26, 27, 28, 29, 30, 31, 32, 33, 34, 35, 36, 37, 38, 39, 40, 41, 42, 43, 44, 45, 46, 47, 48, 49, 50, 51, 52, 53, 54, 55, 56, 57, 58, 59]>\n"
     ]
    }
   ],
   "source": [
    "H"
   ]
  },
  {
   "cell_type": "code",
   "execution_count": 11,
   "id": "7ddfe15c-c67b-4c73-80bc-95c9faf84a67",
   "metadata": {},
   "outputs": [
    {
     "name": "stdout",
     "output_type": "stream",
     "text": [
      "<Hamiltonian: terms=65979, wires=[0, 1, 2, 3, 4, 5, 6, 7, 8, 9, 10, 11, 12, 13, 14, 15, 16, 17, 18, 19, 20, 21, 22, 23, 24, 25, 26, 27, 28, 29, 30, 31, 32, 33, 34, 35]>\n"
     ]
    }
   ],
   "source": [
    "H_Fe"
   ]
  },
  {
   "cell_type": "markdown",
   "id": "991b4a7b-875d-4571-9ebe-dac2650b7dd4",
   "metadata": {},
   "source": [
    "## Next step\n",
    "1. Use params `active_electrons`, `active_orbitals` inside `molecular_hamiltonian`\n",
    "    1. Principled way to do it without knowing Fe is catalyst?\n",
    "       > valence electron in the outer shell, choose the radius (coordinate?)\n",
    "    2. Coordinates\n",
    "       > coordinate for reactant, coordinate for products may be in somewhere else\n",
    "       > evaluate energy at a lot of different coordinates?\n",
    "       > Put H2 N2 Fe closer and then farther to see what happens. There must be a method\n",
    "    3. QPE\n",
    "       > Time evolution. Trotter, LCU (build different matrix, one of them is time evolution), Qubitizations\n",
    "2. ZNE?\n",
    "    1. If it concat a chain of gates, could the real system reach the end of the gates?\n",
    "    2. Doesn't seem to need more qubit?"
   ]
  },
  {
   "cell_type": "code",
   "execution_count": null,
   "id": "bd309b3e-54f2-4b11-8d2b-f3f31933a8e5",
   "metadata": {},
   "outputs": [],
   "source": []
  }
 ],
 "metadata": {
  "kernelspec": {
   "display_name": "Python 3 (ipykernel)",
   "language": "python",
   "name": "python3"
  },
  "language_info": {
   "codemirror_mode": {
    "name": "ipython",
    "version": 3
   },
   "file_extension": ".py",
   "mimetype": "text/x-python",
   "name": "python",
   "nbconvert_exporter": "python",
   "pygments_lexer": "ipython3",
   "version": "3.10.11"
  }
 },
 "nbformat": 4,
 "nbformat_minor": 5
}
