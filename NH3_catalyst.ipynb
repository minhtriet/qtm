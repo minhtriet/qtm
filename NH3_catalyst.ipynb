{
 "cells": [
  {
   "cell_type": "code",
   "execution_count": 3,
   "id": "a80297b4-5da0-49d4-b627-42d015b7148d",
   "metadata": {},
   "outputs": [
    {
     "ename": "ValueError",
     "evalue": "Coordinates error in Fe",
     "output_type": "error",
     "traceback": [
      "\u001b[0;31m---------------------------------------------------------------------------\u001b[0m",
      "\u001b[0;31mValueError\u001b[0m                                Traceback (most recent call last)",
      "Cell \u001b[0;32mIn[3], line 6\u001b[0m\n\u001b[1;32m      3\u001b[0m \u001b[38;5;28;01mfrom\u001b[39;00m \u001b[38;5;21;01mpennylane\u001b[39;00m \u001b[38;5;28;01mimport\u001b[39;00m numpy \u001b[38;5;28;01mas\u001b[39;00m np\n\u001b[1;32m      5\u001b[0m \u001b[38;5;66;03m# create the Fe atom\u001b[39;00m\n\u001b[0;32m----> 6\u001b[0m mol \u001b[38;5;241m=\u001b[39m \u001b[43mgto\u001b[49m\u001b[38;5;241;43m.\u001b[39;49m\u001b[43mM\u001b[49m\u001b[43m(\u001b[49m\u001b[43matom\u001b[49m\u001b[38;5;241;43m=\u001b[39;49m\u001b[43m[\u001b[49m\u001b[38;5;124;43m\"\u001b[39;49m\u001b[38;5;124;43mFe\u001b[39;49m\u001b[38;5;124;43m\"\u001b[39;49m\u001b[43m,\u001b[49m\u001b[43m \u001b[49m\u001b[43m(\u001b[49m\u001b[38;5;241;43m0\u001b[39;49m\u001b[43m,\u001b[49m\u001b[43m \u001b[49m\u001b[38;5;241;43m0\u001b[39;49m\u001b[43m,\u001b[49m\u001b[43m \u001b[49m\u001b[38;5;241;43m0\u001b[39;49m\u001b[43m)\u001b[49m\u001b[43m]\u001b[49m\u001b[43m)\u001b[49m\n\u001b[1;32m      7\u001b[0m \u001b[38;5;66;03m# perfrom restricted Hartree-Fock and then CISD\u001b[39;00m\n\u001b[1;32m      8\u001b[0m myhf \u001b[38;5;241m=\u001b[39m scf\u001b[38;5;241m.\u001b[39mRHF(mol)\u001b[38;5;241m.\u001b[39mrun()\n",
      "File \u001b[0;32m~/code/qtm/venv/lib/python3.10/site-packages/pyscf/gto/mole.py:114\u001b[0m, in \u001b[0;36mM\u001b[0;34m(*args, **kwargs)\u001b[0m\n\u001b[1;32m    104\u001b[0m \u001b[38;5;250m\u001b[39m\u001b[38;5;124mr\u001b[39m\u001b[38;5;124;03m'''This is a shortcut to build up Mole object.\u001b[39;00m\n\u001b[1;32m    105\u001b[0m \n\u001b[1;32m    106\u001b[0m \u001b[38;5;124;03mArgs: Same to :func:`Mole.build`\u001b[39;00m\n\u001b[0;32m   (...)\u001b[0m\n\u001b[1;32m    111\u001b[0m \u001b[38;5;124;03m>>> mol = gto.M(atom='H 0 0 0; F 0 0 1', basis='6-31g')\u001b[39;00m\n\u001b[1;32m    112\u001b[0m \u001b[38;5;124;03m'''\u001b[39;00m\n\u001b[1;32m    113\u001b[0m mol \u001b[38;5;241m=\u001b[39m Mole()\n\u001b[0;32m--> 114\u001b[0m \u001b[43mmol\u001b[49m\u001b[38;5;241;43m.\u001b[39;49m\u001b[43mbuild\u001b[49m\u001b[43m(\u001b[49m\u001b[38;5;241;43m*\u001b[39;49m\u001b[43margs\u001b[49m\u001b[43m,\u001b[49m\u001b[43m \u001b[49m\u001b[38;5;241;43m*\u001b[39;49m\u001b[38;5;241;43m*\u001b[39;49m\u001b[43mkwargs\u001b[49m\u001b[43m)\u001b[49m\n\u001b[1;32m    115\u001b[0m \u001b[38;5;28;01mreturn\u001b[39;00m mol\n",
      "File \u001b[0;32m~/code/qtm/venv/lib/python3.10/site-packages/pyscf/gto/mole.py:2533\u001b[0m, in \u001b[0;36mMoleBase.build\u001b[0;34m(self, dump_input, parse_arg, verbose, output, max_memory, atom, basis, unit, nucmod, ecp, pseudo, charge, spin, symmetry, symmetry_subgroup, cart, magmom)\u001b[0m\n\u001b[1;32m   2530\u001b[0m     \u001b[38;5;28mself\u001b[39m\u001b[38;5;241m.\u001b[39mcheck_sanity()\n\u001b[1;32m   2532\u001b[0m \u001b[38;5;28;01mif\u001b[39;00m \u001b[38;5;28mself\u001b[39m\u001b[38;5;241m.\u001b[39matom:\n\u001b[0;32m-> 2533\u001b[0m     \u001b[38;5;28mself\u001b[39m\u001b[38;5;241m.\u001b[39m_atom \u001b[38;5;241m=\u001b[39m \u001b[38;5;28;43mself\u001b[39;49m\u001b[38;5;241;43m.\u001b[39;49m\u001b[43mformat_atom\u001b[49m\u001b[43m(\u001b[49m\u001b[38;5;28;43mself\u001b[39;49m\u001b[38;5;241;43m.\u001b[39;49m\u001b[43matom\u001b[49m\u001b[43m,\u001b[49m\u001b[43m \u001b[49m\u001b[43munit\u001b[49m\u001b[38;5;241;43m=\u001b[39;49m\u001b[38;5;28;43mself\u001b[39;49m\u001b[38;5;241;43m.\u001b[39;49m\u001b[43munit\u001b[49m\u001b[43m)\u001b[49m\n\u001b[1;32m   2534\u001b[0m uniq_atoms \u001b[38;5;241m=\u001b[39m {a[\u001b[38;5;241m0\u001b[39m] \u001b[38;5;28;01mfor\u001b[39;00m a \u001b[38;5;129;01min\u001b[39;00m \u001b[38;5;28mself\u001b[39m\u001b[38;5;241m.\u001b[39m_atom}\n\u001b[1;32m   2536\u001b[0m \u001b[38;5;28;01mif\u001b[39;00m \u001b[38;5;28mself\u001b[39m\u001b[38;5;241m.\u001b[39mbasis:\n",
      "File \u001b[0;32m~/code/qtm/venv/lib/python3.10/site-packages/pyscf/gto/mole.py:395\u001b[0m, in \u001b[0;36mformat_atom\u001b[0;34m(atoms, origin, axes, unit)\u001b[0m\n\u001b[1;32m    393\u001b[0m \u001b[38;5;28;01mif\u001b[39;00m \u001b[38;5;28misinstance\u001b[39m(atom, \u001b[38;5;28mstr\u001b[39m):\n\u001b[1;32m    394\u001b[0m     \u001b[38;5;28;01mif\u001b[39;00m atom\u001b[38;5;241m.\u001b[39mlstrip()[\u001b[38;5;241m0\u001b[39m] \u001b[38;5;241m!=\u001b[39m \u001b[38;5;124m'\u001b[39m\u001b[38;5;124m#\u001b[39m\u001b[38;5;124m'\u001b[39m:\n\u001b[0;32m--> 395\u001b[0m         fmt_atoms\u001b[38;5;241m.\u001b[39mappend(\u001b[43mstr2atm\u001b[49m\u001b[43m(\u001b[49m\u001b[43matom\u001b[49m\u001b[38;5;241;43m.\u001b[39;49m\u001b[43mreplace\u001b[49m\u001b[43m(\u001b[49m\u001b[38;5;124;43m'\u001b[39;49m\u001b[38;5;124;43m,\u001b[39;49m\u001b[38;5;124;43m'\u001b[39;49m\u001b[43m,\u001b[49m\u001b[38;5;124;43m'\u001b[39;49m\u001b[38;5;124;43m \u001b[39;49m\u001b[38;5;124;43m'\u001b[39;49m\u001b[43m)\u001b[49m\u001b[43m)\u001b[49m)\n\u001b[1;32m    396\u001b[0m \u001b[38;5;28;01melse\u001b[39;00m:\n\u001b[1;32m    397\u001b[0m     \u001b[38;5;28;01mif\u001b[39;00m \u001b[38;5;28misinstance\u001b[39m(atom[\u001b[38;5;241m1\u001b[39m], (\u001b[38;5;28mint\u001b[39m, \u001b[38;5;28mfloat\u001b[39m)):\n",
      "File \u001b[0;32m~/code/qtm/venv/lib/python3.10/site-packages/pyscf/gto/mole.py:367\u001b[0m, in \u001b[0;36mformat_atom.<locals>.str2atm\u001b[0;34m(line)\u001b[0m\n\u001b[1;32m    365\u001b[0m         coords \u001b[38;5;241m=\u001b[39m \u001b[38;5;28mlist\u001b[39m(\u001b[38;5;28meval\u001b[39m(\u001b[38;5;124m'\u001b[39m\u001b[38;5;124m,\u001b[39m\u001b[38;5;124m'\u001b[39m\u001b[38;5;241m.\u001b[39mjoin(dat[\u001b[38;5;241m1\u001b[39m:\u001b[38;5;241m4\u001b[39m])))\n\u001b[1;32m    366\u001b[0m \u001b[38;5;28;01mif\u001b[39;00m \u001b[38;5;28mlen\u001b[39m(coords) \u001b[38;5;241m!=\u001b[39m \u001b[38;5;241m3\u001b[39m:\n\u001b[0;32m--> 367\u001b[0m     \u001b[38;5;28;01mraise\u001b[39;00m \u001b[38;5;167;01mValueError\u001b[39;00m(\u001b[38;5;124m'\u001b[39m\u001b[38;5;124mCoordinates error in \u001b[39m\u001b[38;5;132;01m%s\u001b[39;00m\u001b[38;5;124m'\u001b[39m \u001b[38;5;241m%\u001b[39m line)\n\u001b[1;32m    368\u001b[0m \u001b[38;5;28;01mreturn\u001b[39;00m [_atom_symbol(dat[\u001b[38;5;241m0\u001b[39m]), coords]\n",
      "\u001b[0;31mValueError\u001b[0m: Coordinates error in Fe"
     ]
    }
   ],
   "source": [
    "from pyscf import gto, scf, ci\n",
    "from pennylane.qchem import import_state\n",
    "from pennylane import numpy as np\n",
    "\n",
    "# create the Fe atom\n",
    "mol = gto.M(atom=[\"Fe\", (0, 0, 0)])\n",
    "# perfrom restricted Hartree-Fock and then CISD\n",
    "myhf = scf.RHF(mol).run()\n",
    "myci = ci.CISD(myhf).run()\n",
    "wf_cisd = import_state(myci, tol=1e-1)\n",
    "print(f\"CISD-based state vector: \\n{np.round(wf_cisd.real, 4)}\")"
   ]
  },
  {
   "cell_type": "code",
   "execution_count": 5,
   "id": "c64f86d5-a954-4862-872a-c092776b867a",
   "metadata": {},
   "outputs": [
    {
     "ename": "ValueError",
     "evalue": "Atoms in {'Fe'} are not supported.",
     "output_type": "error",
     "traceback": [
      "\u001b[0;31m---------------------------------------------------------------------------\u001b[0m",
      "\u001b[0;31mValueError\u001b[0m                                Traceback (most recent call last)",
      "Cell \u001b[0;32mIn[5], line 5\u001b[0m\n\u001b[1;32m      3\u001b[0m symbols \u001b[38;5;241m=\u001b[39m [\u001b[38;5;124m\"\u001b[39m\u001b[38;5;124mFe\u001b[39m\u001b[38;5;124m\"\u001b[39m]\n\u001b[1;32m      4\u001b[0m coordinates \u001b[38;5;241m=\u001b[39m np\u001b[38;5;241m.\u001b[39marray([\u001b[38;5;241m0.0\u001b[39m, \u001b[38;5;241m0.0\u001b[39m, \u001b[38;5;241m0.0\u001b[39m])\n\u001b[0;32m----> 5\u001b[0m H, qubits \u001b[38;5;241m=\u001b[39m \u001b[43mqchem\u001b[49m\u001b[38;5;241;43m.\u001b[39;49m\u001b[43mmolecular_hamiltonian\u001b[49m\u001b[43m(\u001b[49m\u001b[43msymbols\u001b[49m\u001b[43m,\u001b[49m\u001b[43m \u001b[49m\u001b[43mcoordinates\u001b[49m\u001b[43m)\u001b[49m\n",
      "File \u001b[0;32m~/code/qtm/venv/lib/python3.10/site-packages/pennylane/qchem/openfermion_obs.py:928\u001b[0m, in \u001b[0;36mmolecular_hamiltonian\u001b[0;34m(symbols, coordinates, name, charge, mult, basis, method, active_electrons, active_orbitals, mapping, outpath, wires, alpha, coeff, args, load_data, convert_tol)\u001b[0m\n\u001b[1;32m    926\u001b[0m \u001b[38;5;28;01mif\u001b[39;00m args \u001b[38;5;129;01mis\u001b[39;00m \u001b[38;5;28;01mNone\u001b[39;00m \u001b[38;5;129;01mand\u001b[39;00m \u001b[38;5;28misinstance\u001b[39m(geometry_dhf, qml\u001b[38;5;241m.\u001b[39mnumpy\u001b[38;5;241m.\u001b[39mtensor):\n\u001b[1;32m    927\u001b[0m     geometry_dhf\u001b[38;5;241m.\u001b[39mrequires_grad \u001b[38;5;241m=\u001b[39m \u001b[38;5;28;01mFalse\u001b[39;00m\n\u001b[0;32m--> 928\u001b[0m mol \u001b[38;5;241m=\u001b[39m \u001b[43mqml\u001b[49m\u001b[38;5;241;43m.\u001b[39;49m\u001b[43mqchem\u001b[49m\u001b[38;5;241;43m.\u001b[39;49m\u001b[43mMolecule\u001b[49m\u001b[43m(\u001b[49m\n\u001b[1;32m    929\u001b[0m \u001b[43m    \u001b[49m\u001b[43msymbols\u001b[49m\u001b[43m,\u001b[49m\n\u001b[1;32m    930\u001b[0m \u001b[43m    \u001b[49m\u001b[43mgeometry_dhf\u001b[49m\u001b[43m,\u001b[49m\n\u001b[1;32m    931\u001b[0m \u001b[43m    \u001b[49m\u001b[43mcharge\u001b[49m\u001b[38;5;241;43m=\u001b[39;49m\u001b[43mcharge\u001b[49m\u001b[43m,\u001b[49m\n\u001b[1;32m    932\u001b[0m \u001b[43m    \u001b[49m\u001b[43mmult\u001b[49m\u001b[38;5;241;43m=\u001b[39;49m\u001b[43mmult\u001b[49m\u001b[43m,\u001b[49m\n\u001b[1;32m    933\u001b[0m \u001b[43m    \u001b[49m\u001b[43mbasis_name\u001b[49m\u001b[38;5;241;43m=\u001b[39;49m\u001b[43mbasis\u001b[49m\u001b[43m,\u001b[49m\n\u001b[1;32m    934\u001b[0m \u001b[43m    \u001b[49m\u001b[43mload_data\u001b[49m\u001b[38;5;241;43m=\u001b[39;49m\u001b[43mload_data\u001b[49m\u001b[43m,\u001b[49m\n\u001b[1;32m    935\u001b[0m \u001b[43m    \u001b[49m\u001b[43malpha\u001b[49m\u001b[38;5;241;43m=\u001b[39;49m\u001b[43malpha\u001b[49m\u001b[43m,\u001b[49m\n\u001b[1;32m    936\u001b[0m \u001b[43m    \u001b[49m\u001b[43mcoeff\u001b[49m\u001b[38;5;241;43m=\u001b[39;49m\u001b[43mcoeff\u001b[49m\u001b[43m,\u001b[49m\n\u001b[1;32m    937\u001b[0m \u001b[43m\u001b[49m\u001b[43m)\u001b[49m\n\u001b[1;32m    938\u001b[0m core, active \u001b[38;5;241m=\u001b[39m qml\u001b[38;5;241m.\u001b[39mqchem\u001b[38;5;241m.\u001b[39mactive_space(\n\u001b[1;32m    939\u001b[0m     mol\u001b[38;5;241m.\u001b[39mn_electrons, mol\u001b[38;5;241m.\u001b[39mn_orbitals, mult, active_electrons, active_orbitals\n\u001b[1;32m    940\u001b[0m )\n\u001b[1;32m    942\u001b[0m requires_grad \u001b[38;5;241m=\u001b[39m args \u001b[38;5;129;01mis\u001b[39;00m \u001b[38;5;129;01mnot\u001b[39;00m \u001b[38;5;28;01mNone\u001b[39;00m\n",
      "File \u001b[0;32m~/code/qtm/venv/lib/python3.10/site-packages/pennylane/qchem/molecule.py:94\u001b[0m, in \u001b[0;36mMolecule.__init__\u001b[0;34m(self, symbols, coordinates, charge, mult, basis_name, load_data, l, alpha, coeff, normalize)\u001b[0m\n\u001b[1;32m     87\u001b[0m     \u001b[38;5;28;01mraise\u001b[39;00m \u001b[38;5;167;01mValueError\u001b[39;00m(\n\u001b[1;32m     88\u001b[0m         \u001b[38;5;124m\"\u001b[39m\u001b[38;5;124mCurrently, the only supported basis sets are \u001b[39m\u001b[38;5;124m'\u001b[39m\u001b[38;5;124msto-3g\u001b[39m\u001b[38;5;124m'\u001b[39m\u001b[38;5;124m, \u001b[39m\u001b[38;5;124m'\u001b[39m\u001b[38;5;124m6-31g\u001b[39m\u001b[38;5;124m'\u001b[39m\u001b[38;5;124m, \u001b[39m\u001b[38;5;124m'\u001b[39m\u001b[38;5;124m6-311g\u001b[39m\u001b[38;5;124m'\u001b[39m\u001b[38;5;124m and \u001b[39m\u001b[38;5;124m\"\u001b[39m\n\u001b[1;32m     89\u001b[0m         \u001b[38;5;124m\"\u001b[39m\u001b[38;5;124m'\u001b[39m\u001b[38;5;124mcc-pvdz\u001b[39m\u001b[38;5;124m'\u001b[39m\u001b[38;5;124m. Please consider using `load_data=True` to download the basis set from \u001b[39m\u001b[38;5;124m\"\u001b[39m\n\u001b[1;32m     90\u001b[0m         \u001b[38;5;124m\"\u001b[39m\u001b[38;5;124man external library that can be installed with: pip install basis-set-exchange.\u001b[39m\u001b[38;5;124m\"\u001b[39m\n\u001b[1;32m     91\u001b[0m     )\n\u001b[1;32m     93\u001b[0m \u001b[38;5;28;01mif\u001b[39;00m \u001b[38;5;28mset\u001b[39m(symbols) \u001b[38;5;241m-\u001b[39m \u001b[38;5;28mset\u001b[39m(atomic_numbers):\n\u001b[0;32m---> 94\u001b[0m     \u001b[38;5;28;01mraise\u001b[39;00m \u001b[38;5;167;01mValueError\u001b[39;00m(\u001b[38;5;124mf\u001b[39m\u001b[38;5;124m\"\u001b[39m\u001b[38;5;124mAtoms in \u001b[39m\u001b[38;5;132;01m{\u001b[39;00m\u001b[38;5;28mset\u001b[39m(symbols)\u001b[38;5;250m \u001b[39m\u001b[38;5;241m-\u001b[39m\u001b[38;5;250m \u001b[39m\u001b[38;5;28mset\u001b[39m(atomic_numbers)\u001b[38;5;132;01m}\u001b[39;00m\u001b[38;5;124m are not supported.\u001b[39m\u001b[38;5;124m\"\u001b[39m)\n\u001b[1;32m     96\u001b[0m \u001b[38;5;28mself\u001b[39m\u001b[38;5;241m.\u001b[39msymbols \u001b[38;5;241m=\u001b[39m symbols\n\u001b[1;32m     97\u001b[0m \u001b[38;5;28mself\u001b[39m\u001b[38;5;241m.\u001b[39mcoordinates \u001b[38;5;241m=\u001b[39m coordinates\n",
      "\u001b[0;31mValueError\u001b[0m: Atoms in {'Fe'} are not supported."
     ]
    }
   ],
   "source": [
    "import numpy as np\n",
    "from pennylane import qchem \n",
    "symbols = [\"Fe\"]\n",
    "coordinates = np.array([0.0, 0.0, 0.0])\n",
    "H, qubits = qchem.molecular_hamiltonian(symbols, coordinates)"
   ]
  },
  {
   "cell_type": "code",
   "execution_count": 12,
   "id": "92d976f4-5053-4c12-8d96-ef418ee9de52",
   "metadata": {},
   "outputs": [
    {
     "name": "stdout",
     "output_type": "stream",
     "text": [
      "4.0 [0^ 0 1^ 1] +\n",
      "-1.0 [0^ 2] +\n",
      "-1.0 [0^ 18] +\n",
      "-1.0 [1^ 3] +\n",
      "-1.0 [1^ 19] +\n",
      "-1.0 [2^ 0] +\n",
      "4.0 [2^ 2 3^ 3] +\n",
      "-1.0 [2^ 4] +\n",
      "-1.0 [3^ 1] +\n",
      "-1.0 [3^ 5] +\n",
      "-1.0 [4^ 2] +\n",
      "4.0 [4^ 4 5^ 5] +\n",
      "-1.0 [4^ 6] +\n",
      "-1.0 [5^ 3] +\n",
      "-1.0 [5^ 7] +\n",
      "-1.0 [6^ 4] +\n",
      "4.0 [6^ 6 7^ 7] +\n",
      "-1.0 [6^ 8] +\n",
      "-1.0 [7^ 5] +\n",
      "-1.0 [7^ 9] +\n",
      "-1.0 [8^ 6] +\n",
      "4.0 [8^ 8 9^ 9] +\n",
      "-1.0 [8^ 10] +\n",
      "-1.0 [9^ 7] +\n",
      "-1.0 [9^ 11] +\n",
      "-1.0 [10^ 8] +\n",
      "4.0 [10^ 10 11^ 11] +\n",
      "-1.0 [10^ 12] +\n",
      "-1.0 [11^ 9] +\n",
      "-1.0 [11^ 13] +\n",
      "-1.0 [12^ 10] +\n",
      "4.0 [12^ 12 13^ 13] +\n",
      "-1.0 [12^ 14] +\n",
      "-1.0 [13^ 11] +\n",
      "-1.0 [13^ 15] +\n",
      "-1.0 [14^ 12] +\n",
      "4.0 [14^ 14 15^ 15] +\n",
      "-1.0 [14^ 16] +\n",
      "-1.0 [15^ 13] +\n",
      "-1.0 [15^ 17] +\n",
      "-1.0 [16^ 14] +\n",
      "4.0 [16^ 16 17^ 17] +\n",
      "-1.0 [16^ 18] +\n",
      "-1.0 [17^ 15] +\n",
      "-1.0 [17^ 19] +\n",
      "-1.0 [18^ 0] +\n",
      "-1.0 [18^ 16] +\n",
      "4.0 [18^ 18 19^ 19] +\n",
      "-1.0 [19^ 1] +\n",
      "-1.0 [19^ 17]\n"
     ]
    }
   ],
   "source": [
    "from openfermion import FermionOperator, MolecularData\n",
    "from openfermion import fermi_hubbard\n",
    "\n",
    "# Build a Molecule\n",
    "geometry = [['Fe', [0, 0, 0]]]\n",
    "multiplicity = 1\n",
    "basis = 'cc-pvdz'\n",
    "charge = 0\n",
    "molecule = MolecularData(geometry, basis, multiplicity, charge)\n",
    "\n",
    "# Create model hamiltonians on a 1 x 10 lattice\n",
    "hubbard = fermi_hubbard(1, 10, tunneling=1, coulomb=4, periodic=True)\n",
    "print(hubbard)"
   ]
  }
 ],
 "metadata": {
  "kernelspec": {
   "display_name": "Python 3 (ipykernel)",
   "language": "python",
   "name": "python3"
  },
  "language_info": {
   "codemirror_mode": {
    "name": "ipython",
    "version": 3
   },
   "file_extension": ".py",
   "mimetype": "text/x-python",
   "name": "python",
   "nbconvert_exporter": "python",
   "pygments_lexer": "ipython3",
   "version": "3.10.11"
  }
 },
 "nbformat": 4,
 "nbformat_minor": 5
}
