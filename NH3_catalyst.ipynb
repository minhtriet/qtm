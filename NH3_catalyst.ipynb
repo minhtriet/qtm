{
 "cells": [
  {
   "cell_type": "code",
   "execution_count": 1,
   "id": "a80297b4-5da0-49d4-b627-42d015b7148d",
   "metadata": {},
   "outputs": [],
   "source": [
    "from pyscf import gto, scf, ci\n",
    "from pennylane.qchem import import_state\n",
    "from pennylane import numpy as np"
   ]
  },
  {
   "cell_type": "code",
   "execution_count": 3,
   "id": "c64f86d5-a954-4862-872a-c092776b867a",
   "metadata": {},
   "outputs": [],
   "source": [
    "import numpy as np\n",
    "from pennylane import qchem \n",
    "symbols = [\"Fe\"]\n",
    "coordinates = np.array([0.0, 0.0, 0.0])\n",
    "H, qubits = qchem.molecular_hamiltonian(symbols, coordinates, method='pyscf')"
   ]
  },
  {
   "cell_type": "code",
   "execution_count": 8,
   "id": "192e5dda-ab51-447c-966c-ea0fef75def1",
   "metadata": {},
   "outputs": [
    {
     "data": {
      "text/plain": [
       "36"
      ]
     },
     "execution_count": 8,
     "metadata": {},
     "output_type": "execute_result"
    }
   ],
   "source": [
    "qubits"
   ]
  },
  {
   "cell_type": "code",
   "execution_count": 12,
   "id": "92d976f4-5053-4c12-8d96-ef418ee9de52",
   "metadata": {},
   "outputs": [
    {
     "name": "stdout",
     "output_type": "stream",
     "text": [
      "4.0 [0^ 0 1^ 1] +\n",
      "-1.0 [0^ 2] +\n",
      "-1.0 [0^ 18] +\n",
      "-1.0 [1^ 3] +\n",
      "-1.0 [1^ 19] +\n",
      "-1.0 [2^ 0] +\n",
      "4.0 [2^ 2 3^ 3] +\n",
      "-1.0 [2^ 4] +\n",
      "-1.0 [3^ 1] +\n",
      "-1.0 [3^ 5] +\n",
      "-1.0 [4^ 2] +\n",
      "4.0 [4^ 4 5^ 5] +\n",
      "-1.0 [4^ 6] +\n",
      "-1.0 [5^ 3] +\n",
      "-1.0 [5^ 7] +\n",
      "-1.0 [6^ 4] +\n",
      "4.0 [6^ 6 7^ 7] +\n",
      "-1.0 [6^ 8] +\n",
      "-1.0 [7^ 5] +\n",
      "-1.0 [7^ 9] +\n",
      "-1.0 [8^ 6] +\n",
      "4.0 [8^ 8 9^ 9] +\n",
      "-1.0 [8^ 10] +\n",
      "-1.0 [9^ 7] +\n",
      "-1.0 [9^ 11] +\n",
      "-1.0 [10^ 8] +\n",
      "4.0 [10^ 10 11^ 11] +\n",
      "-1.0 [10^ 12] +\n",
      "-1.0 [11^ 9] +\n",
      "-1.0 [11^ 13] +\n",
      "-1.0 [12^ 10] +\n",
      "4.0 [12^ 12 13^ 13] +\n",
      "-1.0 [12^ 14] +\n",
      "-1.0 [13^ 11] +\n",
      "-1.0 [13^ 15] +\n",
      "-1.0 [14^ 12] +\n",
      "4.0 [14^ 14 15^ 15] +\n",
      "-1.0 [14^ 16] +\n",
      "-1.0 [15^ 13] +\n",
      "-1.0 [15^ 17] +\n",
      "-1.0 [16^ 14] +\n",
      "4.0 [16^ 16 17^ 17] +\n",
      "-1.0 [16^ 18] +\n",
      "-1.0 [17^ 15] +\n",
      "-1.0 [17^ 19] +\n",
      "-1.0 [18^ 0] +\n",
      "-1.0 [18^ 16] +\n",
      "4.0 [18^ 18 19^ 19] +\n",
      "-1.0 [19^ 1] +\n",
      "-1.0 [19^ 17]\n"
     ]
    }
   ],
   "source": [
    "from openfermion import FermionOperator, MolecularData\n",
    "from openfermion import fermi_hubbard\n",
    "\n",
    "# Build a Molecule\n",
    "geometry = [['Fe', [0, 0, 0]]]\n",
    "multiplicity = 1\n",
    "basis = 'cc-pvdz'\n",
    "charge = 0\n",
    "molecule = MolecularData(geometry, basis, multiplicity, charge)\n",
    "\n",
    "# Create model hamiltonians on a 1 x 10 lattice\n",
    "hubbard = fermi_hubbard(1, 10, tunneling=1, coulomb=4, periodic=True)\n",
    "print(hubbard)"
   ]
  }
 ],
 "metadata": {
  "kernelspec": {
   "display_name": "Python 3 (ipykernel)",
   "language": "python",
   "name": "python3"
  },
  "language_info": {
   "codemirror_mode": {
    "name": "ipython",
    "version": 3
   },
   "file_extension": ".py",
   "mimetype": "text/x-python",
   "name": "python",
   "nbconvert_exporter": "python",
   "pygments_lexer": "ipython3",
   "version": "3.10.11"
  }
 },
 "nbformat": 4,
 "nbformat_minor": 5
}
