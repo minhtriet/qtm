{
 "cells": [
  {
   "cell_type": "code",
   "execution_count": 7,
   "id": "a80297b4-5da0-49d4-b627-42d015b7148d",
   "metadata": {},
   "outputs": [],
   "source": [
    "#from pyscf import gto, scf, ci\n",
    "import pennylane as qml\n",
    "from pennylane import numpy as np\n",
    "from pennylane import qchem \n"
   ]
  },
  {
   "cell_type": "code",
   "execution_count": 3,
   "id": "c64f86d5-a954-4862-872a-c092776b867a",
   "metadata": {},
   "outputs": [],
   "source": [
    "symbols = [\"Fe\"]\n",
    "coordinates = np.array([0.0, 0.0, 0.0])\n",
    "H, qubits = qchem.molecular_hamiltonian(symbols, coordinates, method='pyscf')"
   ]
  },
  {
   "cell_type": "code",
   "execution_count": 8,
   "id": "192e5dda-ab51-447c-966c-ea0fef75def1",
   "metadata": {},
   "outputs": [
    {
     "data": {
      "text/plain": [
       "36"
      ]
     },
     "execution_count": 8,
     "metadata": {},
     "output_type": "execute_result"
    }
   ],
   "source": [
    "qubits"
   ]
  },
  {
   "cell_type": "code",
   "execution_count": 8,
   "id": "92d976f4-5053-4c12-8d96-ef418ee9de52",
   "metadata": {},
   "outputs": [
    {
     "data": {
      "text/plain": [
       "<Dataset = molname: N2, basis: STO-3G, bondlength: 1.12, attributes: ['basis', 'basis_rot_groupings', ...]>"
      ]
     },
     "execution_count": 8,
     "metadata": {},
     "output_type": "execute_result"
    }
   ],
   "source": [
    "dataset_N2 = qml.data.load(\"qchem\", molname=\"N2\", bondlength=1.12, basis=\"STO-3G\")\n",
    "dataset_N2[0]"
   ]
  },
  {
   "cell_type": "code",
   "execution_count": 9,
   "id": "b96a4a53-f287-4840-8f01-d3a6dcd0b129",
   "metadata": {},
   "outputs": [
    {
     "data": {
      "text/plain": [
       "<Wires = [0, 1, 2, 3, 4, 5, 6, 7, 8, 9, 10, 11, 12, 13, 14, 15, 16, 17, 18, 19]>"
      ]
     },
     "execution_count": 9,
     "metadata": {},
     "output_type": "execute_result"
    }
   ],
   "source": [
    "dataset_N2[0].hamiltonian.wires"
   ]
  }
 ],
 "metadata": {
  "kernelspec": {
   "display_name": "Python 3 (ipykernel)",
   "language": "python",
   "name": "python3"
  },
  "language_info": {
   "codemirror_mode": {
    "name": "ipython",
    "version": 3
   },
   "file_extension": ".py",
   "mimetype": "text/x-python",
   "name": "python",
   "nbconvert_exporter": "python",
   "pygments_lexer": "ipython3",
   "version": "3.10.4"
  }
 },
 "nbformat": 4,
 "nbformat_minor": 5
}
